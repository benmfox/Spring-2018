{
 "cells": [
  {
   "cell_type": "markdown",
   "metadata": {},
   "source": [
    "# Shooting Pattern Analysis\n",
    "\n",
    "In this analysis, we analyze the shotchart of players. We show that there are different modes of shots, and each player's shooting style can be described as some combination of these modes.\n",
    "\n",
    "To clean up the notebook, some functions have been moved to a local module: `helper_basketball.py`."
   ]
  },
  {
   "cell_type": "code",
   "execution_count": 1,
   "metadata": {},
   "outputs": [],
   "source": [
    "%matplotlib inline\n",
    "\n",
    "import pandas as pd\n",
    "import numpy as np\n",
    "import matplotlib.pyplot as plt\n",
    "import subprocess as sp\n",
    "import pickle\n",
    "\n",
    "import helper_basketball as h\n",
    "import imp\n",
    "imp.reload(h);"
   ]
  },
  {
   "cell_type": "code",
   "execution_count": 2,
   "metadata": {},
   "outputs": [
    {
     "name": "stdout",
     "output_type": "stream",
     "text": [
      "def get_nba_data(endpoint, params, return_url=False):\n",
      "    \n",
      "    \"\"\"Retrieves data from http://stats.nba.com\n",
      "    \n",
      "    For community documentation, visit \n",
      "    https://github.com/seemethere/nba_py/wiki/stats.nba.com-Endpoint-Documentation.\n",
      "    \n",
      "    Args:\n",
      "        endpoint: endpoint specifies data table\n",
      "        params: dictionary of parameters: e.g., {'LeagueID':'00'}\n",
      "        return_url: returns URL instead of downloading data then returning it\n",
      "    Returns:\n",
      "        out: Pandas data frame\n",
      "    \"\"\"\n",
      "    \n",
      "    from pandas import DataFrame\n",
      "    from urllib.parse import urlencode\n",
      "    import json\n",
      "    import subprocess as sp\n",
      "    \n",
      "    useragent = \"Mozilla/5.0 (Macintosh; Intel Mac OS X 10_11_2) AppleWebKit/601.3.9 (KHTML, like Gecko) Version/9.0.2 Safari/601.3.9\"\n",
      "    dataurl = \"http://stats.nba.com/stats/\" + endpoint + \"?\" + urlencode(params)\n",
      "    \n",
      "    # for debugging: just return the url\n",
      "    if return_url:\n",
      "        return(dataurl)\n",
      "    \n",
      "    wgetout = sp.Popen(['wget', '-q', '-O', '-', '--user-agent='+useragent, dataurl], stdout=sp.PIPE)\n",
      "    \n",
      "    jsonstr, _ = wgetout.communicate()\n",
      "    data = json.loads(jsonstr)\n",
      "    \n",
      "    h = data['resultSets'][0]['headers']\n",
      "    d = data['resultSets'][0]['rowSet']\n",
      "    \n",
      "    out = DataFrame(d, columns=h)\n",
      "    \n",
      "    return(out)\n",
      "\n",
      "\n",
      "def bin_shots(df, bin_edges, density=False, sigma=1):\n",
      "    \n",
      "    \"\"\"Given data frame of shots, a 2d matrix of binned counts is computed\n",
      "    \n",
      "    Args:\n",
      "        df: data frame of shotchartdetail from nba.com. \n",
      "            At the minimum, LOCX and LOCY are required.\n",
      "        bin_edges: bin edge definition: edges in x and edges in y\n",
      "    \n",
      "    Returns:\n",
      "        binned: counts\n",
      "        xedges: bin edges in X direction\n",
      "        yedges: bin edges in Y direction\n",
      "    \"\"\"\n",
      "    import numpy as np\n",
      "    from scipy import ndimage\n",
      "    \n",
      "    binned, xedges, yedges = np.histogram2d(df.LOC_X, df.LOC_Y, bins=bin_edges)\n",
      "    \n",
      "    if density:\n",
      "        binned = ndimage.filters.gaussian_filter(binned, sigma)\n",
      "        binned /= np.sum(binned)\n",
      "    \n",
      "    return(binned, xedges, yedges)\n",
      "\n",
      "\n",
      "\n",
      "def draw_court(ax=None, color='black', lw=1, outer_lines=False):\n",
      "    \n",
      "    \"\"\"Draws a half basketball court\n",
      "    This function is from http://savvastjortjoglou.com/nba-shot-sharts.html\n",
      "    \n",
      "    Args:\n",
      "        ax: figure axes [None]\n",
      "        color: ['black']\n",
      "        lw: linewidth [1]\n",
      "        outer_lines: court perimeter [False]\n",
      "        \n",
      "    Returns:\n",
      "        ax: figure axes with court\n",
      "    \"\"\"\n",
      "    \n",
      "    from matplotlib.patches import Circle, Rectangle, Arc\n",
      "    from matplotlib.pyplot import gca\n",
      "    \n",
      "    # If an axes object isn't provided to plot onto, just get current one\n",
      "    if ax is None:\n",
      "        ax = gca()\n",
      "\n",
      "    # Create the various parts of an NBA basketball court\n",
      "\n",
      "    # Create the basketball hoop\n",
      "    # Diameter of a hoop is 18\" so it has a radius of 9\", which is a value\n",
      "    # 7.5 in our coordinate system\n",
      "    hoop = Circle((0, 0), radius=7.5, linewidth=lw, color=color, fill=False)\n",
      "\n",
      "    # Create backboard\n",
      "    backboard = Rectangle((-30, -7.5), 60, 0, linewidth=lw, color=color)\n",
      "\n",
      "    # The paint\n",
      "    # Create the outer box 0f the paint, width=16ft, height=19ft\n",
      "    outer_box = Rectangle((-80, -47.5), 160, 190, linewidth=lw, color=color,\n",
      "                          fill=False)\n",
      "    # Create the inner box of the paint, widt=12ft, height=19ft\n",
      "    inner_box = Rectangle((-60, -47.5), 120, 190, linewidth=lw, color=color,\n",
      "                          fill=False)\n",
      "\n",
      "    # Create free throw top arc\n",
      "    top_free_throw = Arc((0, 142.5), 120, 120, theta1=0, theta2=180,\n",
      "                         linewidth=lw, color=color, fill=False)\n",
      "    # Create free throw bottom arc\n",
      "    bottom_free_throw = Arc((0, 142.5), 120, 120, theta1=180, theta2=0,\n",
      "                            linewidth=lw, color=color, linestyle='dashed')\n",
      "    # Restricted Zone, it is an arc with 4ft radius from center of the hoop\n",
      "    restricted = Arc((0, 0), 80, 80, theta1=0, theta2=180, linewidth=lw,\n",
      "                     color=color)\n",
      "\n",
      "    # Three point line\n",
      "    # Create the side 3pt lines, they are 14ft long before they begin to arc\n",
      "    corner_three_a = Rectangle((-219, -47.5), 0, 140, linewidth=lw,\n",
      "                               color=color)\n",
      "    corner_three_b = Rectangle((219, -47.5), 0, 140, linewidth=lw, color=color)\n",
      "    # 3pt arc - center of arc will be the hoop, arc is 23'9\" away from hoop\n",
      "    # I just played around with the theta values until they lined up with the \n",
      "    # threes\n",
      "    three_arc = Arc((0, 0), 475, 475, theta1=22.5, theta2=157.5, linewidth=lw,\n",
      "                    color=color)\n",
      "\n",
      "    # Center Court\n",
      "    center_outer_arc = Arc((0, 422.5), 120, 120, theta1=180, theta2=0,\n",
      "                           linewidth=lw, color=color)\n",
      "    center_inner_arc = Arc((0, 422.5), 40, 40, theta1=180, theta2=0,\n",
      "                           linewidth=lw, color=color)\n",
      "\n",
      "    # List of the court elements to be plotted onto the axes\n",
      "    court_elements = [hoop, backboard, outer_box, inner_box, top_free_throw,\n",
      "                      bottom_free_throw, restricted, corner_three_a,\n",
      "                      corner_three_b, three_arc, center_outer_arc,\n",
      "                      center_inner_arc]\n",
      "\n",
      "    if outer_lines:\n",
      "        # Draw the half court line, baseline and side out bound lines\n",
      "        outer_lines = Rectangle((-250, -47.5), 500, 470, linewidth=lw,\n",
      "                                color=color, fill=False)\n",
      "        court_elements.append(outer_lines)\n",
      "\n",
      "    # Add the court elements onto the axes\n",
      "    for element in court_elements:\n",
      "        ax.add_patch(element)\n",
      "\n",
      "    return ax\n",
      "\n",
      "\n",
      "def plot_shotchart(hist_counts, xedges, yedges, ax=None, use_log=False):\n",
      "    \n",
      "    \"\"\"Plots 2d heatmap from vectorized heatmap counts\n",
      "    \n",
      "    Args:\n",
      "        hist_counts: vectorized output of numpy.histogram2d\n",
      "        xedges, yedges: bin edges in arrays\n",
      "        ax: figure axes [None]\n",
      "        use_log: will convert count x to log(x+1) to increase visibility [False]\n",
      "    Returns:\n",
      "        ax: axes with plot\n",
      "    \"\"\"\n",
      "    \n",
      "    import numpy as np\n",
      "    import matplotlib.pyplot as plt\n",
      "    import helper_basketball as h\n",
      "    \n",
      "    nx = xedges.size - 1\n",
      "    ny = yedges.size - 1\n",
      "    \n",
      "    counts = hist_counts.reshape((nx, ny))\n",
      "    \n",
      "    X, Y = np.meshgrid(xedges, yedges)\n",
      "    \n",
      "    if use_log:\n",
      "        counts = np.log(counts + 1)\n",
      "        \n",
      "    if ax is None:\n",
      "        fig, ax = plt.subplots(1,1)\n",
      "    \n",
      "    ax.pcolormesh(X, Y, counts.T, cmap='jet', vmin=0., vmax=0.005)\n",
      "    ax.set_aspect('equal')\n",
      "    \n",
      "    draw_court(ax)\n",
      "    \n",
      "    return(ax)\n",
      "\n"
     ]
    }
   ],
   "source": [
    "%%bash\n",
    "cat helper_basketball.py"
   ]
  },
  {
   "cell_type": "markdown",
   "metadata": {},
   "source": [
    "## Import a python file as a module\n",
    "\n",
    "File `helper_basketball.py` is imported as a module, and can be used like any other module. For example, you can get the docstring and function source using ? and ??, respectively."
   ]
  },
  {
   "cell_type": "code",
   "execution_count": 3,
   "metadata": {},
   "outputs": [],
   "source": [
    "## h.get_nba_data?\n",
    "## h.get_nba_data??"
   ]
  },
  {
   "cell_type": "markdown",
   "metadata": {},
   "source": [
    "## Get team and player data"
   ]
  },
  {
   "cell_type": "code",
   "execution_count": 4,
   "metadata": {},
   "outputs": [
    {
     "ename": "JSONDecodeError",
     "evalue": "Expecting value: line 1 column 1 (char 0)",
     "output_type": "error",
     "traceback": [
      "\u001b[0;31m---------------------------------------------------------------------------\u001b[0m",
      "\u001b[0;31mJSONDecodeError\u001b[0m                           Traceback (most recent call last)",
      "\u001b[0;32m<ipython-input-4-b5fb0c1e2229>\u001b[0m in \u001b[0;36m<module>\u001b[0;34m()\u001b[0m\n\u001b[1;32m      1\u001b[0m \u001b[0;31m## get all 2016-17 teams\u001b[0m\u001b[0;34m\u001b[0m\u001b[0;34m\u001b[0m\u001b[0m\n\u001b[1;32m      2\u001b[0m \u001b[0mparams\u001b[0m \u001b[0;34m=\u001b[0m \u001b[0;34m{\u001b[0m\u001b[0;34m'LeagueID'\u001b[0m\u001b[0;34m:\u001b[0m\u001b[0;34m'00'\u001b[0m\u001b[0;34m,\u001b[0m\u001b[0;34m'Season'\u001b[0m\u001b[0;34m:\u001b[0m \u001b[0;34m'2016-17'\u001b[0m\u001b[0;34m}\u001b[0m\u001b[0;34m\u001b[0m\u001b[0m\n\u001b[0;32m----> 3\u001b[0;31m \u001b[0mteams\u001b[0m \u001b[0;34m=\u001b[0m \u001b[0mh\u001b[0m\u001b[0;34m.\u001b[0m\u001b[0mget_nba_data\u001b[0m\u001b[0;34m(\u001b[0m\u001b[0;34m'commonTeamYears'\u001b[0m\u001b[0;34m,\u001b[0m \u001b[0mparams\u001b[0m\u001b[0;34m)\u001b[0m\u001b[0;34m.\u001b[0m\u001b[0mset_index\u001b[0m\u001b[0;34m(\u001b[0m\u001b[0;34m'TEAM_ID'\u001b[0m\u001b[0;34m)\u001b[0m\u001b[0;34m\u001b[0m\u001b[0m\n\u001b[0m\u001b[1;32m      4\u001b[0m \u001b[0mallteams\u001b[0m \u001b[0;34m=\u001b[0m \u001b[0mteams\u001b[0m\u001b[0;34m.\u001b[0m\u001b[0mloc\u001b[0m\u001b[0;34m[\u001b[0m\u001b[0mteams\u001b[0m\u001b[0;34m.\u001b[0m\u001b[0mMAX_YEAR\u001b[0m\u001b[0;34m==\u001b[0m\u001b[0;34m'2017'\u001b[0m\u001b[0;34m]\u001b[0m\u001b[0;34m.\u001b[0m\u001b[0mindex\u001b[0m\u001b[0;34m.\u001b[0m\u001b[0mvalues\u001b[0m\u001b[0;34m\u001b[0m\u001b[0m\n\u001b[1;32m      5\u001b[0m \u001b[0;34m\u001b[0m\u001b[0m\n",
      "\u001b[0;32m~/work/Spring-2018/helper_basketball.py\u001b[0m in \u001b[0;36mget_nba_data\u001b[0;34m(endpoint, params, return_url)\u001b[0m\n\u001b[1;32m     29\u001b[0m \u001b[0;34m\u001b[0m\u001b[0m\n\u001b[1;32m     30\u001b[0m     \u001b[0mjsonstr\u001b[0m\u001b[0;34m,\u001b[0m \u001b[0m_\u001b[0m \u001b[0;34m=\u001b[0m \u001b[0mwgetout\u001b[0m\u001b[0;34m.\u001b[0m\u001b[0mcommunicate\u001b[0m\u001b[0;34m(\u001b[0m\u001b[0;34m)\u001b[0m\u001b[0;34m\u001b[0m\u001b[0m\n\u001b[0;32m---> 31\u001b[0;31m     \u001b[0mdata\u001b[0m \u001b[0;34m=\u001b[0m \u001b[0mjson\u001b[0m\u001b[0;34m.\u001b[0m\u001b[0mloads\u001b[0m\u001b[0;34m(\u001b[0m\u001b[0mjsonstr\u001b[0m\u001b[0;34m)\u001b[0m\u001b[0;34m\u001b[0m\u001b[0m\n\u001b[0m\u001b[1;32m     32\u001b[0m \u001b[0;34m\u001b[0m\u001b[0m\n\u001b[1;32m     33\u001b[0m     \u001b[0mh\u001b[0m \u001b[0;34m=\u001b[0m \u001b[0mdata\u001b[0m\u001b[0;34m[\u001b[0m\u001b[0;34m'resultSets'\u001b[0m\u001b[0;34m]\u001b[0m\u001b[0;34m[\u001b[0m\u001b[0;36m0\u001b[0m\u001b[0;34m]\u001b[0m\u001b[0;34m[\u001b[0m\u001b[0;34m'headers'\u001b[0m\u001b[0;34m]\u001b[0m\u001b[0;34m\u001b[0m\u001b[0m\n",
      "\u001b[0;32m/opt/conda/lib/python3.6/json/__init__.py\u001b[0m in \u001b[0;36mloads\u001b[0;34m(s, encoding, cls, object_hook, parse_float, parse_int, parse_constant, object_pairs_hook, **kw)\u001b[0m\n\u001b[1;32m    352\u001b[0m             \u001b[0mparse_int\u001b[0m \u001b[0;32mis\u001b[0m \u001b[0;32mNone\u001b[0m \u001b[0;32mand\u001b[0m \u001b[0mparse_float\u001b[0m \u001b[0;32mis\u001b[0m \u001b[0;32mNone\u001b[0m \u001b[0;32mand\u001b[0m\u001b[0;34m\u001b[0m\u001b[0m\n\u001b[1;32m    353\u001b[0m             parse_constant is None and object_pairs_hook is None and not kw):\n\u001b[0;32m--> 354\u001b[0;31m         \u001b[0;32mreturn\u001b[0m \u001b[0m_default_decoder\u001b[0m\u001b[0;34m.\u001b[0m\u001b[0mdecode\u001b[0m\u001b[0;34m(\u001b[0m\u001b[0ms\u001b[0m\u001b[0;34m)\u001b[0m\u001b[0;34m\u001b[0m\u001b[0m\n\u001b[0m\u001b[1;32m    355\u001b[0m     \u001b[0;32mif\u001b[0m \u001b[0mcls\u001b[0m \u001b[0;32mis\u001b[0m \u001b[0;32mNone\u001b[0m\u001b[0;34m:\u001b[0m\u001b[0;34m\u001b[0m\u001b[0m\n\u001b[1;32m    356\u001b[0m         \u001b[0mcls\u001b[0m \u001b[0;34m=\u001b[0m \u001b[0mJSONDecoder\u001b[0m\u001b[0;34m\u001b[0m\u001b[0m\n",
      "\u001b[0;32m/opt/conda/lib/python3.6/json/decoder.py\u001b[0m in \u001b[0;36mdecode\u001b[0;34m(self, s, _w)\u001b[0m\n\u001b[1;32m    337\u001b[0m \u001b[0;34m\u001b[0m\u001b[0m\n\u001b[1;32m    338\u001b[0m         \"\"\"\n\u001b[0;32m--> 339\u001b[0;31m         \u001b[0mobj\u001b[0m\u001b[0;34m,\u001b[0m \u001b[0mend\u001b[0m \u001b[0;34m=\u001b[0m \u001b[0mself\u001b[0m\u001b[0;34m.\u001b[0m\u001b[0mraw_decode\u001b[0m\u001b[0;34m(\u001b[0m\u001b[0ms\u001b[0m\u001b[0;34m,\u001b[0m \u001b[0midx\u001b[0m\u001b[0;34m=\u001b[0m\u001b[0m_w\u001b[0m\u001b[0;34m(\u001b[0m\u001b[0ms\u001b[0m\u001b[0;34m,\u001b[0m \u001b[0;36m0\u001b[0m\u001b[0;34m)\u001b[0m\u001b[0;34m.\u001b[0m\u001b[0mend\u001b[0m\u001b[0;34m(\u001b[0m\u001b[0;34m)\u001b[0m\u001b[0;34m)\u001b[0m\u001b[0;34m\u001b[0m\u001b[0m\n\u001b[0m\u001b[1;32m    340\u001b[0m         \u001b[0mend\u001b[0m \u001b[0;34m=\u001b[0m \u001b[0m_w\u001b[0m\u001b[0;34m(\u001b[0m\u001b[0ms\u001b[0m\u001b[0;34m,\u001b[0m \u001b[0mend\u001b[0m\u001b[0;34m)\u001b[0m\u001b[0;34m.\u001b[0m\u001b[0mend\u001b[0m\u001b[0;34m(\u001b[0m\u001b[0;34m)\u001b[0m\u001b[0;34m\u001b[0m\u001b[0m\n\u001b[1;32m    341\u001b[0m         \u001b[0;32mif\u001b[0m \u001b[0mend\u001b[0m \u001b[0;34m!=\u001b[0m \u001b[0mlen\u001b[0m\u001b[0;34m(\u001b[0m\u001b[0ms\u001b[0m\u001b[0;34m)\u001b[0m\u001b[0;34m:\u001b[0m\u001b[0;34m\u001b[0m\u001b[0m\n",
      "\u001b[0;32m/opt/conda/lib/python3.6/json/decoder.py\u001b[0m in \u001b[0;36mraw_decode\u001b[0;34m(self, s, idx)\u001b[0m\n\u001b[1;32m    355\u001b[0m             \u001b[0mobj\u001b[0m\u001b[0;34m,\u001b[0m \u001b[0mend\u001b[0m \u001b[0;34m=\u001b[0m \u001b[0mself\u001b[0m\u001b[0;34m.\u001b[0m\u001b[0mscan_once\u001b[0m\u001b[0;34m(\u001b[0m\u001b[0ms\u001b[0m\u001b[0;34m,\u001b[0m \u001b[0midx\u001b[0m\u001b[0;34m)\u001b[0m\u001b[0;34m\u001b[0m\u001b[0m\n\u001b[1;32m    356\u001b[0m         \u001b[0;32mexcept\u001b[0m \u001b[0mStopIteration\u001b[0m \u001b[0;32mas\u001b[0m \u001b[0merr\u001b[0m\u001b[0;34m:\u001b[0m\u001b[0;34m\u001b[0m\u001b[0m\n\u001b[0;32m--> 357\u001b[0;31m             \u001b[0;32mraise\u001b[0m \u001b[0mJSONDecodeError\u001b[0m\u001b[0;34m(\u001b[0m\u001b[0;34m\"Expecting value\"\u001b[0m\u001b[0;34m,\u001b[0m \u001b[0ms\u001b[0m\u001b[0;34m,\u001b[0m \u001b[0merr\u001b[0m\u001b[0;34m.\u001b[0m\u001b[0mvalue\u001b[0m\u001b[0;34m)\u001b[0m \u001b[0;32mfrom\u001b[0m \u001b[0;32mNone\u001b[0m\u001b[0;34m\u001b[0m\u001b[0m\n\u001b[0m\u001b[1;32m    358\u001b[0m         \u001b[0;32mreturn\u001b[0m \u001b[0mobj\u001b[0m\u001b[0;34m,\u001b[0m \u001b[0mend\u001b[0m\u001b[0;34m\u001b[0m\u001b[0m\n",
      "\u001b[0;31mJSONDecodeError\u001b[0m: Expecting value: line 1 column 1 (char 0)"
     ]
    }
   ],
   "source": [
    "## get all 2016-17 teams\n",
    "params = {'LeagueID':'00','Season': '2016-17'}\n",
    "teams = h.get_nba_data('commonTeamYears', params).set_index('TEAM_ID')\n",
    "allteams = teams.loc[teams.MAX_YEAR=='2017'].index.values\n",
    "\n",
    "## get all 2016-17 players\n",
    "params = {'LeagueID':'00', 'Season': '2016-17', 'IsOnlyCurrentSeason': '0'}\n",
    "players = h.get_nba_data('commonallplayers', params).set_index('PERSON_ID')\n",
    "allplyrs = players.loc[players.TEAM_ID.isin(allteams)].index.values"
   ]
  },
  {
   "cell_type": "markdown",
   "metadata": {},
   "source": [
    "## Get shooting data\n",
    "\n",
    "We follow the data collection procedure described in this paper: https://arxiv.org/abs/1401.0942.\n",
    "\n",
    "The data consists of all shots attempted by anyone during the regular season of 2016-17. The shots are filtered in the 50' x 35' offensive court then only those who made more than 50 are included. Since the process takes a long time, I commented out the code for downloading the data, but, instead, saved the data into a pickle file."
   ]
  },
  {
   "cell_type": "code",
   "execution_count": null,
   "metadata": {},
   "outputs": [],
   "source": [
    "## params = {'PlayerID':'201939',\n",
    "##           'PlayerPosition':'',\n",
    "##           'Season':'2016-17',\n",
    "##           'ContextMeasure':'FGA',\n",
    "##           'DateFrom':'',\n",
    "##           'DateTo':'',\n",
    "##           'GameID':'',\n",
    "##           'GameSegment':'',\n",
    "##           'LastNGames':'0',\n",
    "##           'LeagueID':'00',\n",
    "##           'Location':'',\n",
    "##           'Month':'0',\n",
    "##           'OpponentTeamID':'0',\n",
    "##           'Outcome':'',\n",
    "##           'Period':'0',\n",
    "##           'Position':'',\n",
    "##           'RookieYear':'',\n",
    "##           'SeasonSegment':'',\n",
    "##           'SeasonType':'Regular Season',\n",
    "##           'TeamID':'0',\n",
    "##           'VsConference':'',\n",
    "##           'VsDivision':''}\n",
    "## \n",
    "## shotdf = []\n",
    "## for p in allplyrs:\n",
    "##     \n",
    "##     ## get player p's data\n",
    "##     params['PlayerID'] = p\n",
    "##     shotdata = h.get_nba_data('shotchartdetail', params)\n",
    "##     \n",
    "##     ## subset columns\n",
    "##     sc = shotdata.loc[:,'SHOT_DISTANCE':'SHOT_MADE_FLAG']\n",
    "##     sc.drop('SHOT_ATTEMPTED_FLAG', axis=1)\n",
    "##     \n",
    "##     ## filter shots to 31 feet from end zone\n",
    "##     sc = sc.loc[sc.LOC_Y < (31*12)]\n",
    "##     \n",
    "##     ## keep data with more than 50 shots\n",
    "##     \n",
    "##     if sc.SHOT_MADE_FLAG.sum() > 50:\n",
    "##         \n",
    "##         sc['PlayerID'] = p\n",
    "##         shotdf += [sc]\n",
    "## \n",
    "## allshots = pd.concat(shotdf)\n",
    "## \n",
    "## pickle.dump(allshots, open('allshots2016-17.pkl', 'wb'))"
   ]
  },
  {
   "cell_type": "markdown",
   "metadata": {},
   "source": [
    "## Pickle module\n",
    "\n",
    "A `pickle` file is a python module for saving data objects into a file."
   ]
  },
  {
   "cell_type": "code",
   "execution_count": null,
   "metadata": {},
   "outputs": [],
   "source": [
    "allshots = pickle.load(open('allshots2016-17.pkl', 'rb'))\n",
    "\n",
    "# allmade = allshots.loc[allshots.SHOT_MADE_FLAG==1]\n",
    "allmade = allshots\n",
    "allmade.head()"
   ]
  },
  {
   "cell_type": "markdown",
   "metadata": {},
   "source": [
    "## Data preprocessing\n",
    "\n",
    "We want to limit X and Y locations to 35 feet (length-wise) by 50 feet (width-wise). Data contains more of the court:"
   ]
  },
  {
   "cell_type": "code",
   "execution_count": null,
   "metadata": {},
   "outputs": [],
   "source": [
    "pd.DataFrame([allmade.LOC_X.describe(), \n",
    "              allmade.LOC_Y.describe()])"
   ]
  },
  {
   "cell_type": "markdown",
   "metadata": {},
   "source": [
    "## Binned shot counts\n",
    "\n",
    "We divide the court up into bins, and, for each player, count number of shots that fall into each bin. Then, we vectorize the bins into a row vector."
   ]
  },
  {
   "cell_type": "code",
   "execution_count": null,
   "metadata": {},
   "outputs": [],
   "source": [
    "## players info\n",
    "player_ids = allmade.PlayerID.unique()\n",
    "num_players = player_ids.size\n",
    "\n",
    "## bin edge definitions in inches\n",
    "xedges = (np.linspace(start=-25, stop=25, num=151, dtype=np.float)) * 12\n",
    "yedges = (np.linspace(start= -4, stop=31, num=106, dtype=np.float)) * 12\n",
    "\n",
    "## number of bins is one less than number of edges\n",
    "nx = xedges.size - 1\n",
    "ny = yedges.size - 1\n",
    "\n",
    "## 2d histogram containers for binned counts and smoothed binned counts\n",
    "all_counts = {}\n",
    "all_smooth = {}\n",
    "\n",
    "## data matrix: players (row) by vectorized 2-d court locations (column)\n",
    "for i, one in enumerate(allmade.groupby('PlayerID')):\n",
    "    \n",
    "    ## what does this line do?\n",
    "    pid, pdf = one\n",
    "    \n",
    "    ## h.bin_shots: what is this function doing?\n",
    "    tmp1, xedges, yedges = h.bin_shots(pdf, bin_edges=(xedges, yedges), density=True, sigma=2)\n",
    "    tmp2, xedges, yedges = h.bin_shots(pdf, bin_edges=(xedges, yedges), density=False)\n",
    "    \n",
    "    ## vectorize and store into dictionary\n",
    "    all_smooth[pid] = tmp1.reshape(-1)\n",
    "    all_counts[pid] = tmp2.reshape(-1)"
   ]
  },
  {
   "cell_type": "markdown",
   "metadata": {},
   "source": [
    "## Kernel smoothing (filtering)\n",
    "\n",
    "Kernel smoothing is a frequently used function in image processing. It can also be used to smooth-out the histogram. Then, the smoothed histogram is normalized to sum to 1 to create an empirical distribution function. It is important we do this since each player has attempted different number of shots, and this procedure normalizes everyone's shooting pattern.\n",
    "\n",
    "What is the name of the kernel smoothing function?"
   ]
  },
  {
   "cell_type": "code",
   "execution_count": null,
   "metadata": {},
   "outputs": [],
   "source": [
    "# h.bin_shots??"
   ]
  },
  {
   "cell_type": "markdown",
   "metadata": {},
   "source": [
    "## Visualizing star players\n",
    "\n",
    "We will visualize the shot chart counts and smoothed fields for some players. Recall the player data structure."
   ]
  },
  {
   "cell_type": "code",
   "execution_count": null,
   "metadata": {},
   "outputs": [],
   "source": [
    "players.head()"
   ]
  },
  {
   "cell_type": "markdown",
   "metadata": {},
   "source": []
  },
  {
   "cell_type": "code",
   "execution_count": null,
   "metadata": {},
   "outputs": [],
   "source": [
    "## select players from paper\n",
    "stars = 'LeBron James|Brook Lopez|Tyson Chandler|Marc Gasol|Tony Parker|Kyrie Irving|Stephen Curry|James Harden|Steve Novak'\n",
    "starids = players[players.DISPLAY_FIRST_LAST.str.contains(stars)].loc[player_ids].dropna()"
   ]
  },
  {
   "cell_type": "code",
   "execution_count": null,
   "metadata": {},
   "outputs": [],
   "source": [
    "## create figure and axes\n",
    "fig, ax = plt.subplots(starids.shape[0], 2, figsize=(20,60))\n",
    "\n",
    "for axi, plyri in enumerate(starids.index.values):\n",
    "    \n",
    "    h.plot_shotchart(all_counts[plyri], xedges, yedges, ax=ax[axi,0])\n",
    "    h.plot_shotchart(all_smooth[plyri], xedges, yedges, ax=ax[axi,1])\n",
    "    \n",
    "    ax[axi,0].set_title(players.DISPLAY_FIRST_LAST[plyri]+', '+str(all_counts[plyri].sum().astype('int')))\n",
    "    ax[axi,1].set_title(players.DISPLAY_FIRST_LAST[plyri]+', '+str(all_counts[plyri].sum().astype('int')))"
   ]
  },
  {
   "cell_type": "markdown",
   "metadata": {},
   "source": [
    "## Non-negative matrix factorization (NMF)\n",
    "\n",
    "Given some matrix $X$ is $p\\times n$ matrix, NMF computes the following factorization:\n",
    "$$ \\min_{W,H} \\| X - WH \\|_F\\\\\n",
    "\\text{ subject to } W\\geq 0,\\ H\\geq 0, $$\n",
    "where $W$ is ${p\\times r}$ matrix and $H$ is ${r\\times n}$ matrix.\n",
    "\n",
    "NMF is a unique factorization in that all values are non-negative; hence, it is used for factorization of $X$ into bases consist of non-negative values. In many practical settings such assumptions enable some realistic interpretation.\n",
    "\n",
    "Some common applications include:\n",
    "- Image processing: pixel intensities are non-negative\n",
    "- Bioinformatics: gene expressions are non-negative\n",
    "- Text mining: document term matrix\n",
    "\n",
    "[This paper](https://arxiv.org/abs/1401.5226) discusses some of these in more detail.\n",
    "\n",
    "In our case, columns of matrix $X$ represent vectorized smoothed density of one player, and we compute the non-negative $r$-bases vectors in matrix $W$. Columns in matrix $H$ are the vector of coefficients. Each coefficient in a column says how important each of the bases (columns of $W$) are."
   ]
  },
  {
   "cell_type": "code",
   "execution_count": null,
   "metadata": {},
   "outputs": [],
   "source": [
    "## Non-negative Matrix Factorization\n",
    "\n",
    "import sklearn.decomposition as skld\n",
    "\n",
    "X = np.stack(all_smooth.values()).T\n",
    "\n",
    "## what are the different options mean for NMF()?\n",
    "model = skld.NMF(n_components=10, init='nndsvda', max_iter=500, random_state=0)\n",
    "W = model.fit_transform(X)\n",
    "H = model.components_"
   ]
  },
  {
   "cell_type": "markdown",
   "metadata": {},
   "source": [
    "### Data matrix: $X$\n",
    "\n",
    "Data matrix $X^T$ has dimensions of (number of players)-by-(number of bins), so $X$ is of dimension $n=\\text{\\{number of players\\}}$ and $p=\\text{\\{number of bins\\}}$."
   ]
  },
  {
   "cell_type": "code",
   "execution_count": null,
   "metadata": {},
   "outputs": [],
   "source": [
    "p, n = X.shape\n",
    "\n",
    "print('Number of bins (p)   :', p)\n",
    "print('Number of players (n):', n)"
   ]
  },
  {
   "cell_type": "markdown",
   "metadata": {},
   "source": [
    "### Bases matrix: $W$\n",
    "\n",
    "Columns $W_i$ contain the bases. Since the function call asks for $r=10$ as number of bases, we get:"
   ]
  },
  {
   "cell_type": "code",
   "execution_count": null,
   "metadata": {},
   "outputs": [],
   "source": [
    "p_w, r = W.shape\n",
    "\n",
    "print('Number of bins (p) :', p_w)\n",
    "print('Number of bases (r):', r)"
   ]
  },
  {
   "cell_type": "markdown",
   "metadata": {},
   "source": [
    "It has the shape of (number of bins)-by-(10 components).\n",
    "\n",
    "### Coefficient matrix: H\n",
    "\n",
    "Each column of $H$ gives a coefficient for each of the bases vectors in $W$, and there are $n$ columns for each player."
   ]
  },
  {
   "cell_type": "code",
   "execution_count": null,
   "metadata": {},
   "outputs": [],
   "source": [
    "r_h, n_h = H.shape\n",
    "\n",
    "print('Number of bases (r)  :', r_h)\n",
    "print('Number of players (n):', n_h)"
   ]
  },
  {
   "cell_type": "markdown",
   "metadata": {},
   "source": [
    "### Visualizing the Bases $W$\n",
    "\n",
    "Each column vector of $W$ gives a spatial basis. Below we plot the bases in 2-d space."
   ]
  },
  {
   "cell_type": "code",
   "execution_count": null,
   "metadata": {},
   "outputs": [],
   "source": [
    "## h.plot_shotchart??"
   ]
  },
  {
   "cell_type": "code",
   "execution_count": null,
   "metadata": {},
   "outputs": [],
   "source": [
    "fig, ax = plt.subplots(5, 2, figsize=(20,40))\n",
    "\n",
    "for i, axi in enumerate(ax.flatten()):\n",
    "    h.plot_shotchart(W[:,i], xedges, yedges, ax=axi)\n",
    "    axi.set_title('NMF component ' + str(i))"
   ]
  },
  {
   "cell_type": "markdown",
   "metadata": {},
   "source": [
    "## Interpreting the players shooting styles\n",
    "\n",
    "Let's inspect the players shooting styles by looking at the coefficients."
   ]
  },
  {
   "cell_type": "code",
   "execution_count": null,
   "metadata": {},
   "outputs": [],
   "source": [
    "## Hd holds coefficients\n",
    "Hd = pd.DataFrame(H, columns=all_smooth.keys())\n",
    "star_coeff = Hd.loc[:,starids.index.values]\n",
    "star_coeff.columns = starids.DISPLAY_FIRST_LAST\n",
    "star_coeff.T"
   ]
  },
  {
   "cell_type": "markdown",
   "metadata": {},
   "source": [
    "Note that these players coefficients are not scaled to sum to 1."
   ]
  },
  {
   "cell_type": "code",
   "execution_count": null,
   "metadata": {},
   "outputs": [],
   "source": [
    "star_coeff.T.sum(1)"
   ]
  },
  {
   "cell_type": "markdown",
   "metadata": {},
   "source": [
    "So we scale each player to sum to 1."
   ]
  },
  {
   "cell_type": "code",
   "execution_count": null,
   "metadata": {},
   "outputs": [],
   "source": [
    "star_coeff /= star_coeff.sum(0)\n",
    "star_coeff.T"
   ]
  },
  {
   "cell_type": "code",
   "execution_count": null,
   "metadata": {},
   "outputs": [],
   "source": [
    "star_coeff.T.sum(1)"
   ]
  }
 ],
 "metadata": {
  "kernelspec": {
   "display_name": "Python 3",
   "language": "python",
   "name": "python3"
  },
  "language_info": {
   "codemirror_mode": {
    "name": "ipython",
    "version": 3
   },
   "file_extension": ".py",
   "mimetype": "text/x-python",
   "name": "python",
   "nbconvert_exporter": "python",
   "pygments_lexer": "ipython3",
   "version": "3.6.3"
  }
 },
 "nbformat": 4,
 "nbformat_minor": 2
}
