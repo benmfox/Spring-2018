{
 "cells": [
  {
   "cell_type": "markdown",
   "metadata": {},
   "source": [
    "# Pandas Data Frame\n",
    "\n",
    "Pandas package implements functionalities like data frames in R. There are many similarities but also differences. We will go over some differences in the context of working with the basketball data.\n",
    "\n",
    "Obtaining data from NBA can be done using the function developed previously."
   ]
  },
  {
   "cell_type": "code",
<<<<<<< HEAD
<<<<<<< HEAD
   "execution_count": 3,
=======
   "execution_count": 1,
>>>>>>> upstream/master
=======
   "execution_count": null,
>>>>>>> upstream/master
   "metadata": {},
   "outputs": [],
   "source": [
    "import pandas as pd\n",
    "\n",
    "def get_nba_data(endpt, params, return_url=False):\n",
    "\n",
    "    ## endpt: https://github.com/seemethere/nba_py/wiki/stats.nba.com-Endpoint-Documentation\n",
    "    ## params: dictionary of parameters: i.e., {'LeagueID':'00'}\n",
    "    \n",
    "    from pandas import DataFrame\n",
    "    from urllib.parse import urlencode\n",
    "    import json\n",
    "    \n",
    "    useragent = \"\\\"Mozilla/5.0 (Macintosh; Intel Mac OS X 10_11_2) AppleWebKit/601.3.9 (KHTML, like Gecko) Version/9.0.2 Safari/601.3.9\\\"\"\n",
    "    dataurl = \"\\\"\" + \"http://stats.nba.com/stats/\" + endpt + \"?\" + urlencode(params) + \"\\\"\"\n",
    "    \n",
    "    # for debugging: just return the url\n",
    "    if return_url:\n",
    "        return(dataurl)\n",
    "    \n",
    "    jsonstr = !wget -q -O - --user-agent={useragent} {dataurl}\n",
    "    \n",
    "    data = json.loads(jsonstr[0])\n",
    "    \n",
    "    h = data['resultSets'][0]['headers']\n",
    "    d = data['resultSets'][0]['rowSet']\n",
    "    \n",
    "    return(DataFrame(d, columns=h))"
   ]
  },
  {
   "cell_type": "markdown",
   "metadata": {},
   "source": [
    "Using the function, we can get data about teams and players"
   ]
  },
  {
   "cell_type": "code",
<<<<<<< HEAD
<<<<<<< HEAD
   "execution_count": 4,
=======
   "execution_count": 2,
>>>>>>> upstream/master
=======
   "execution_count": null,
>>>>>>> upstream/master
   "metadata": {},
   "outputs": [],
   "source": [
    "## get all teams\n",
    "params = {'LeagueID':'00'}\n",
    "teams = get_nba_data('commonTeamYears', params)\n",
    "\n",
    "## get all players\n",
    "params = {'LeagueID':'00', 'Season': '2016-17', 'IsOnlyCurrentSeason': '0'}\n",
    "players = get_nba_data('commonallplayers', params)"
   ]
  },
  {
   "cell_type": "markdown",
   "metadata": {},
   "source": [
    "## Programming style\n",
    "\n",
    "Programming language is really like a language, and you will get better with practice. It is good to think about good programming style and better way to do the same thing. By better, I mean more readable, concise, efficient (computationally), etc.\n",
    "\n",
    "For example, there are guides and articles such as these:\n",
    "- http://docs.python-guide.org/en/latest/writing/style/#short-ways-to-manipulate-lists\n",
    "- https://google.github.io/styleguide/pyguide.html?showone=List_Comprehensions#List_Comprehensions\n",
    "- https://google.github.io/styleguide/pyguide.html?showone=Naming#Naming\n",
    "- https://www.python.org/dev/peps/pep-0008/"
   ]
  },
  {
   "cell_type": "code",
<<<<<<< HEAD
<<<<<<< HEAD
   "execution_count": 7,
=======
   "execution_count": 3,
>>>>>>> upstream/master
=======
   "execution_count": null,
>>>>>>> upstream/master
   "metadata": {},
   "outputs": [],
   "source": [
    "import this"
   ]
  },
  {
   "cell_type": "markdown",
   "metadata": {},
   "source": [
    "Above easter egg is from Zen of Python: https://www.python.org/dev/peps/pep-0020/. \n",
    "\n",
    "- https://www.quora.com/What-do-different-aphorisms-in-The-Zen-of-Python-mean \n",
    "- 20th aphorism?:https://www.reddit.com/r/Python/comments/3cjhlo/this_disobeys_the_zen_of_python/"
   ]
  },
  {
   "cell_type": "markdown",
   "metadata": {},
   "source": [
    "# Pandas\n",
    "\n",
    "Pandas has an extensive set of functions. Refer to [Chapter 3 in PDSH](https://jakevdp.github.io/PythonDataScienceHandbook/03.00-introduction-to-pandas.html) and the [official website](https://pandas.pydata.org). Latest stable release documentation is here: [http://pandas.pydata.org/pandas-docs/stable/api.html](http://pandas.pydata.org/pandas-docs/stable/api.html).\n",
    "\n",
    "## Pandas Series \n",
    "\n",
    "The section on `Series` is here: http://pandas.pydata.org/pandas-docs/stable/api.html#series. These are available by placing a dot after the object.\n",
    "\n",
    "### Data frames are made of Series\n",
    "Pandas data frames are different objects:"
   ]
  },
  {
   "cell_type": "code",
<<<<<<< HEAD
<<<<<<< HEAD
   "execution_count": 6,
=======
   "execution_count": 4,
>>>>>>> upstream/master
   "metadata": {},
   "outputs": [
    {
     "name": "stdout",
     "output_type": "stream",
     "text": [
      "data frame object : <class 'pandas.core.frame.DataFrame'>\n",
      "data row object   : <class 'pandas.core.series.Series'>\n",
      "data column object: <class 'pandas.core.series.Series'>\n"
     ]
    }
   ],
=======
   "execution_count": null,
   "metadata": {},
   "outputs": [],
>>>>>>> upstream/master
   "source": [
    "print(\"data frame object :\", type(teams))\n",
    "print(\"data row object   :\", type(teams.iloc[0]))\n",
    "print(\"data column object:\", type(teams.ABBREVIATION))"
   ]
  },
  {
   "cell_type": "markdown",
   "metadata": {},
   "source": [
    "Note that rows as well as columns of pandas data frame are `Series` objects. (In R, rows would be a smaller data frame.)\n",
    "\n",
    "There are categories of functions that are applicable to certain object types:\n",
    "\n",
    "- Pandas general functions: http://pandas.pydata.org/pandas-docs/stable/api.html#general-functions   \n",
    "    e.g., [`pandas.melt()`](http://pandas.pydata.org/pandas-docs/stable/generated/pandas.melt.html#pandas-melt) take `DataFrame` as input. \n",
    "- Series methods: http://pandas.pydata.org/pandas-docs/stable/api.html#series\n",
    "- DataFrame methods: http://pandas.pydata.org/pandas-docs/stable/api.html#dataframe\n",
    "\n",
    "### Pandas (often) shows you views\n",
    "\n",
    "Recall that python objects are often _views_ of the same instance in memory space. Following says these are the same objects in memory:"
   ]
  },
  {
   "cell_type": "code",
<<<<<<< HEAD
<<<<<<< HEAD
   "execution_count": 8,
=======
   "execution_count": 5,
>>>>>>> upstream/master
   "metadata": {},
   "outputs": [
    {
     "name": "stdout",
     "output_type": "stream",
     "text": [
      "True\n"
     ]
    }
   ],
=======
   "execution_count": null,
   "metadata": {},
   "outputs": [],
>>>>>>> upstream/master
   "source": [
    "temp = teams\n",
    "print(id(temp) == id(teams))"
   ]
  },
  {
   "cell_type": "markdown",
   "metadata": {},
   "source": [
    "So, if you change one, you see the change in the other:"
   ]
  },
  {
   "cell_type": "code",
<<<<<<< HEAD
<<<<<<< HEAD
   "execution_count": 15,
=======
   "execution_count": 6,
>>>>>>> upstream/master
   "metadata": {},
   "outputs": [
    {
     "name": "stdout",
     "output_type": "stream",
     "text": [
<<<<<<< HEAD
      "id of s1: 140510238603248\n",
      "id of s2: 140510238603248\n",
=======
      "id of s1: 139966185930824\n",
      "id of s2: 139966185930824\n",
>>>>>>> upstream/master
      "s1 is s2: True\n"
     ]
    }
   ],
=======
   "execution_count": null,
   "metadata": {},
   "outputs": [],
>>>>>>> upstream/master
   "source": [
    "s1 = pd.Series([0.25, 0.5, 0.75, 1.0], index=['a', 'b', 'c', 'd'])\n",
    "s2 = s1\n",
    "print(\"id of s1:\", id(s1))\n",
    "print(\"id of s2:\", id(s2))  # same address\n",
    "print(\"s1 is s2:\", s1 is s2)"
   ]
  },
  {
   "cell_type": "code",
<<<<<<< HEAD
<<<<<<< HEAD
   "execution_count": 16,
=======
   "execution_count": 7,
>>>>>>> upstream/master
   "metadata": {},
   "outputs": [
    {
     "name": "stdout",
     "output_type": "stream",
     "text": [
      "s1 changed: 10000.0\n",
      "s2 also   : 10000.0\n"
     ]
    }
   ],
=======
   "execution_count": null,
   "metadata": {},
   "outputs": [],
>>>>>>> upstream/master
   "source": [
    "s1[0] = 10000\n",
    "\n",
    "print(\"s1 changed:\", s1[0])\n",
    "print(\"s2 also   :\", s2[0])\n",
    "#print(\"s1 is s2:\", s1[0] is s2[0])"
   ]
  },
  {
   "cell_type": "markdown",
   "metadata": {},
   "source": [
    "Needs to be copied in order to make an independent variable."
   ]
  },
  {
   "cell_type": "code",
<<<<<<< HEAD
<<<<<<< HEAD
   "execution_count": 17,
=======
   "execution_count": 8,
>>>>>>> upstream/master
   "metadata": {},
   "outputs": [
    {
     "data": {
      "text/plain": [
       "False"
      ]
     },
<<<<<<< HEAD
     "execution_count": 17,
=======
     "execution_count": 8,
>>>>>>> upstream/master
     "metadata": {},
     "output_type": "execute_result"
    }
   ],
=======
   "execution_count": null,
   "metadata": {},
   "outputs": [],
>>>>>>> upstream/master
   "source": [
    "abbr = teams.ABBREVIATION.copy()\n",
    "abbr is teams.ABBREVIATION"
   ]
  },
  {
   "cell_type": "code",
   "execution_count": 18,
   "metadata": {},
   "outputs": [
    {
     "data": {
      "text/html": [
       "<div>\n",
       "<table border=\"1\" class=\"dataframe\">\n",
       "  <thead>\n",
       "    <tr style=\"text-align: right;\">\n",
       "      <th></th>\n",
       "      <th>LEAGUE_ID</th>\n",
       "      <th>TEAM_ID</th>\n",
       "      <th>MIN_YEAR</th>\n",
       "      <th>MAX_YEAR</th>\n",
       "      <th>ABBREVIATION</th>\n",
       "    </tr>\n",
       "  </thead>\n",
       "  <tbody>\n",
       "    <tr>\n",
       "      <th>0</th>\n",
       "      <td>00</td>\n",
       "      <td>1610612737</td>\n",
       "      <td>1949</td>\n",
       "      <td>2017</td>\n",
       "      <td>ATL</td>\n",
       "    </tr>\n",
       "    <tr>\n",
       "      <th>1</th>\n",
       "      <td>00</td>\n",
       "      <td>1610612738</td>\n",
       "      <td>1946</td>\n",
       "      <td>2017</td>\n",
       "      <td>BOS</td>\n",
       "    </tr>\n",
       "    <tr>\n",
       "      <th>2</th>\n",
       "      <td>00</td>\n",
       "      <td>1610612739</td>\n",
       "      <td>1970</td>\n",
       "      <td>2017</td>\n",
       "      <td>CLE</td>\n",
       "    </tr>\n",
       "    <tr>\n",
       "      <th>3</th>\n",
       "      <td>00</td>\n",
       "      <td>1610612740</td>\n",
       "      <td>2002</td>\n",
       "      <td>2017</td>\n",
       "      <td>NOP</td>\n",
       "    </tr>\n",
       "    <tr>\n",
       "      <th>4</th>\n",
       "      <td>00</td>\n",
       "      <td>1610612741</td>\n",
       "      <td>1966</td>\n",
       "      <td>2017</td>\n",
       "      <td>CHI</td>\n",
       "    </tr>\n",
       "  </tbody>\n",
       "</table>\n",
       "</div>"
      ],
      "text/plain": [
       "  LEAGUE_ID     TEAM_ID MIN_YEAR MAX_YEAR ABBREVIATION\n",
       "0        00  1610612737     1949     2017          ATL\n",
       "1        00  1610612738     1946     2017          BOS\n",
       "2        00  1610612739     1970     2017          CLE\n",
       "3        00  1610612740     2002     2017          NOP\n",
       "4        00  1610612741     1966     2017          CHI"
      ]
     },
     "execution_count": 18,
     "metadata": {},
     "output_type": "execute_result"
    }
   ],
   "source": [
    "teams.head()"
   ]
  },
  {
   "cell_type": "markdown",
   "metadata": {},
   "source": [
    "### Indexing\n",
    "\n",
    "There are many different ways to index `Series` and `DataFrames` in pandas: https://pandas.pydata.org/pandas-docs/stable/indexing.html#different-choices-for-indexing.\n",
    "\n",
    "- `.loc` is primarily for using labels and booleans: e.g., column and row indices, comparison operators, etc\n",
    "- `.iloc` is primarily for using integer positions: i.e., like you would matrices"
   ]
  },
  {
   "cell_type": "code",
<<<<<<< HEAD
<<<<<<< HEAD
   "execution_count": 19,
=======
   "execution_count": 9,
>>>>>>> upstream/master
   "metadata": {},
   "outputs": [
    {
     "data": {
      "text/plain": [
       "0      ATL\n",
       "1      BOS\n",
       "2      CLE\n",
       "3      NOP\n",
       "4      CHI\n",
       "5      DAL\n",
       "6      DEN\n",
       "7      GSW\n",
       "8      HOU\n",
       "9      LAC\n",
       "10     LAL\n",
       "11     MIA\n",
       "12     MIL\n",
       "13     MIN\n",
       "14     BKN\n",
       "15     NYK\n",
       "16     ORL\n",
       "17     IND\n",
       "18     PHI\n",
       "19     PHX\n",
       "20     POR\n",
       "21     SAC\n",
       "22     SAS\n",
       "23     OKC\n",
       "24     TOR\n",
       "25     UTA\n",
       "26     MEM\n",
       "27     WAS\n",
       "28     DET\n",
       "29     CHA\n",
       "30    None\n",
       "31    None\n",
       "32    None\n",
       "33    None\n",
       "34    None\n",
       "35    None\n",
       "36    None\n",
       "37    None\n",
       "38    None\n",
       "39    None\n",
       "40    None\n",
       "41    None\n",
       "42    None\n",
       "43    None\n",
       "44    None\n",
       "Name: ABBREVIATION, dtype: object"
      ]
     },
<<<<<<< HEAD
     "execution_count": 19,
=======
     "execution_count": 9,
>>>>>>> upstream/master
     "metadata": {},
     "output_type": "execute_result"
    }
   ],
=======
   "execution_count": null,
   "metadata": {},
   "outputs": [],
>>>>>>> upstream/master
   "source": [
    "abbr"
   ]
  },
  {
   "cell_type": "code",
<<<<<<< HEAD
<<<<<<< HEAD
   "execution_count": 20,
=======
   "execution_count": 10,
>>>>>>> upstream/master
   "metadata": {},
   "outputs": [
    {
     "data": {
      "text/plain": [
       "{0: 'ATL', 1: 'BOS', 2: 'CLE', 3: 'NOP', 4: 'CHI'}"
      ]
     },
<<<<<<< HEAD
     "execution_count": 20,
=======
     "execution_count": 10,
>>>>>>> upstream/master
     "metadata": {},
     "output_type": "execute_result"
    }
   ],
=======
   "execution_count": null,
   "metadata": {},
   "outputs": [],
>>>>>>> upstream/master
   "source": [
    "dict(abbr.head().items())"
   ]
  },
  {
   "cell_type": "markdown",
   "metadata": {},
   "source": [
    "### Series as lists"
   ]
  },
  {
   "cell_type": "code",
<<<<<<< HEAD
<<<<<<< HEAD
   "execution_count": 21,
=======
   "execution_count": 11,
>>>>>>> upstream/master
   "metadata": {},
   "outputs": [
    {
     "data": {
      "text/plain": [
       "[(0, 'ATL'), (1, 'BOS'), (2, 'CLE'), (3, 'NOP'), (4, 'CHI')]"
      ]
     },
<<<<<<< HEAD
     "execution_count": 21,
=======
     "execution_count": 11,
>>>>>>> upstream/master
     "metadata": {},
     "output_type": "execute_result"
    }
   ],
=======
   "execution_count": null,
   "metadata": {},
   "outputs": [],
>>>>>>> upstream/master
   "source": [
    "list(abbr.head().items())"
   ]
  },
  {
   "cell_type": "code",
<<<<<<< HEAD
<<<<<<< HEAD
   "execution_count": 25,
=======
   "execution_count": 12,
>>>>>>> upstream/master
   "metadata": {},
   "outputs": [
    {
     "data": {
      "text/plain": [
       "RangeIndex(start=0, stop=45, step=1)"
      ]
     },
<<<<<<< HEAD
     "execution_count": 25,
=======
     "execution_count": 12,
>>>>>>> upstream/master
     "metadata": {},
     "output_type": "execute_result"
    }
   ],
=======
   "execution_count": null,
   "metadata": {},
   "outputs": [],
>>>>>>> upstream/master
   "source": [
    "abbr.keys()"
   ]
  },
  {
   "cell_type": "markdown",
   "metadata": {},
   "source": [
    "There are many more useful functions and properties. Refer to [Chapter 3 in PDSH](https://jakevdp.github.io/PythonDataScienceHandbook/03.00-introduction-to-pandas.html). Latest stable release documentation is here: [http://pandas.pydata.org/pandas-docs/stable/api.html](http://pandas.pydata.org/pandas-docs/stable/api.html).\n",
    "\n",
    "The section on `Series` is here: http://pandas.pydata.org/pandas-docs/stable/api.html#series. These are available by placing a dot after the object."
   ]
  },
  {
   "cell_type": "code",
<<<<<<< HEAD
<<<<<<< HEAD
   "execution_count": 26,
=======
   "execution_count": 13,
>>>>>>> upstream/master
   "metadata": {},
   "outputs": [
    {
     "data": {
      "text/plain": [
       "array(['ATL', 'BOS', 'CLE', 'NOP', 'CHI', 'DAL', 'DEN', 'GSW', 'HOU',\n",
       "       'LAC', 'LAL', 'MIA', 'MIL', 'MIN', 'BKN', 'NYK', 'ORL', 'IND',\n",
       "       'PHI', 'PHX', 'POR', 'SAC', 'SAS', 'OKC', 'TOR', 'UTA', 'MEM',\n",
       "       'WAS', 'DET', 'CHA', None], dtype=object)"
      ]
     },
<<<<<<< HEAD
     "execution_count": 26,
=======
     "execution_count": 13,
>>>>>>> upstream/master
     "metadata": {},
     "output_type": "execute_result"
    }
   ],
=======
   "execution_count": null,
   "metadata": {},
   "outputs": [],
>>>>>>> upstream/master
   "source": [
    "abbr.unique()"
   ]
  },
  {
   "cell_type": "markdown",
   "metadata": {},
   "source": [
    "A convenient method function is [`str`](http://pandas.pydata.org/pandas-docs/stable/api.html#string-handling). This allows functions to be applied to each value as strings separately. For example, we can search for patterns. For example, we can search for teams that end with letter `S`: "
   ]
  },
  {
   "cell_type": "code",
<<<<<<< HEAD
<<<<<<< HEAD
   "execution_count": 27,
=======
   "execution_count": 14,
>>>>>>> upstream/master
   "metadata": {},
   "outputs": [
    {
     "data": {
      "text/plain": [
       "0     False\n",
       "1      True\n",
       "2     False\n",
       "3     False\n",
       "4     False\n",
       "5     False\n",
       "6     False\n",
       "7     False\n",
       "8     False\n",
       "9     False\n",
       "10    False\n",
       "11    False\n",
       "12    False\n",
       "13    False\n",
       "14    False\n",
       "15    False\n",
       "16    False\n",
       "17    False\n",
       "18    False\n",
       "19    False\n",
       "20    False\n",
       "21    False\n",
       "22     True\n",
       "23    False\n",
       "24    False\n",
       "25    False\n",
       "26    False\n",
       "27     True\n",
       "28    False\n",
       "29    False\n",
       "30     None\n",
       "31     None\n",
       "32     None\n",
       "33     None\n",
       "34     None\n",
       "35     None\n",
       "36     None\n",
       "37     None\n",
       "38     None\n",
       "39     None\n",
       "40     None\n",
       "41     None\n",
       "42     None\n",
       "43     None\n",
       "44     None\n",
       "Name: ABBREVIATION, dtype: object"
      ]
     },
<<<<<<< HEAD
     "execution_count": 27,
=======
     "execution_count": 14,
>>>>>>> upstream/master
     "metadata": {},
     "output_type": "execute_result"
    }
   ],
=======
   "execution_count": null,
   "metadata": {},
   "outputs": [],
>>>>>>> upstream/master
   "source": [
    "abbr.str.contains('S$')"
   ]
  },
  {
   "cell_type": "markdown",
   "metadata": {},
   "source": [
    "__Exercise__: how would you use this to pick out team names that end with S? Can you use the resulting boolean `Series`?"
   ]
  },
  {
   "cell_type": "code",
<<<<<<< HEAD
<<<<<<< HEAD
   "execution_count": 39,
   "metadata": {},
   "outputs": [
    {
     "data": {
      "text/plain": [
       "0     False\n",
       "1      True\n",
       "2     False\n",
       "3     False\n",
       "4     False\n",
       "5     False\n",
       "6     False\n",
       "7     False\n",
       "8     False\n",
       "9     False\n",
       "10    False\n",
       "11    False\n",
       "12    False\n",
       "13    False\n",
       "14    False\n",
       "15    False\n",
       "16    False\n",
       "17    False\n",
       "18    False\n",
       "19    False\n",
       "20    False\n",
       "21    False\n",
       "22     True\n",
       "23    False\n",
       "24    False\n",
       "25    False\n",
       "26    False\n",
       "27     True\n",
       "28    False\n",
       "29    False\n",
       "30    False\n",
       "31    False\n",
       "32    False\n",
       "33    False\n",
       "34    False\n",
       "35    False\n",
       "36    False\n",
       "37    False\n",
       "38    False\n",
       "39    False\n",
       "40    False\n",
       "41    False\n",
       "42    False\n",
       "43    False\n",
       "44    False\n",
       "Name: ABBREVIATION, dtype: bool"
      ]
     },
     "execution_count": 39,
     "metadata": {},
     "output_type": "execute_result"
    }
   ],
   "source": [
    "abbr.str.contains('S$', na = False) # set na == False"
   ]
  },
  {
   "cell_type": "code",
   "execution_count": 40,
=======
   "execution_count": 15,
>>>>>>> upstream/master
=======
   "execution_count": null,
>>>>>>> upstream/master
   "metadata": {},
   "outputs": [
    {
     "data": {
      "text/plain": [
       "1     BOS\n",
       "22    SAS\n",
       "27    WAS\n",
       "Name: ABBREVIATION, dtype: object"
      ]
     },
     "execution_count": 40,
     "metadata": {},
     "output_type": "execute_result"
    }
   ],
   "source": [
    "abbr.loc[abbr.str.contains('S$', na = False)] ## what is the problem? set na = False"
   ]
  },
  {
   "cell_type": "markdown",
   "metadata": {},
   "source": [
    "__Exercise__: what is `dir()` function?"
   ]
  },
  {
   "cell_type": "code",
<<<<<<< HEAD
<<<<<<< HEAD
   "execution_count": 42,
   "metadata": {},
   "outputs": [
    {
     "data": {
      "text/plain": [
       "['T',\n",
       " '_AXIS_ALIASES',\n",
       " '_AXIS_IALIASES',\n",
       " '_AXIS_LEN',\n",
       " '_AXIS_NAMES',\n",
       " '_AXIS_NUMBERS',\n",
       " '_AXIS_ORDERS',\n",
       " '_AXIS_REVERSED',\n",
       " '_AXIS_SLICEMAP',\n",
       " '__abs__',\n",
       " '__add__',\n",
       " '__and__',\n",
       " '__array__',\n",
       " '__array_prepare__',\n",
       " '__array_priority__',\n",
       " '__array_wrap__',\n",
       " '__bool__',\n",
       " '__bytes__',\n",
       " '__class__',\n",
       " '__contains__',\n",
       " '__delattr__',\n",
       " '__delitem__',\n",
       " '__dict__',\n",
       " '__dir__',\n",
       " '__div__',\n",
       " '__divmod__',\n",
       " '__doc__',\n",
       " '__eq__',\n",
       " '__finalize__',\n",
       " '__float__',\n",
       " '__floordiv__',\n",
       " '__format__',\n",
       " '__ge__',\n",
       " '__getattr__',\n",
       " '__getattribute__',\n",
       " '__getitem__',\n",
       " '__getstate__',\n",
       " '__gt__',\n",
       " '__hash__',\n",
       " '__iadd__',\n",
       " '__imul__',\n",
       " '__init__',\n",
       " '__init_subclass__',\n",
       " '__int__',\n",
       " '__invert__',\n",
       " '__ipow__',\n",
       " '__isub__',\n",
       " '__iter__',\n",
       " '__itruediv__',\n",
       " '__le__',\n",
       " '__len__',\n",
       " '__long__',\n",
       " '__lt__',\n",
       " '__mod__',\n",
       " '__module__',\n",
       " '__mul__',\n",
       " '__ne__',\n",
       " '__neg__',\n",
       " '__new__',\n",
       " '__nonzero__',\n",
       " '__or__',\n",
       " '__pow__',\n",
       " '__radd__',\n",
       " '__rand__',\n",
       " '__rdiv__',\n",
       " '__reduce__',\n",
       " '__reduce_ex__',\n",
       " '__repr__',\n",
       " '__rfloordiv__',\n",
       " '__rmod__',\n",
       " '__rmul__',\n",
       " '__ror__',\n",
       " '__round__',\n",
       " '__rpow__',\n",
       " '__rsub__',\n",
       " '__rtruediv__',\n",
       " '__rxor__',\n",
       " '__setattr__',\n",
       " '__setitem__',\n",
       " '__setstate__',\n",
       " '__sizeof__',\n",
       " '__str__',\n",
       " '__sub__',\n",
       " '__subclasshook__',\n",
       " '__truediv__',\n",
       " '__unicode__',\n",
       " '__weakref__',\n",
       " '__xor__',\n",
       " '_accessors',\n",
       " '_add_numeric_operations',\n",
       " '_add_series_only_operations',\n",
       " '_add_series_or_dataframe_operations',\n",
       " '_agg_by_level',\n",
       " '_align_frame',\n",
       " '_align_series',\n",
       " '_allow_index_ops',\n",
       " '_at',\n",
       " '_binop',\n",
       " '_box_item_values',\n",
       " '_can_hold_na',\n",
       " '_check_inplace_setting',\n",
       " '_check_is_chained_assignment_possible',\n",
       " '_check_percentile',\n",
       " '_check_setitem_copy',\n",
       " '_clear_item_cache',\n",
       " '_consolidate_inplace',\n",
       " '_construct_axes_dict',\n",
       " '_construct_axes_dict_for_slice',\n",
       " '_construct_axes_dict_from',\n",
       " '_construct_axes_from_arguments',\n",
       " '_constructor',\n",
       " '_constructor_expanddim',\n",
       " '_constructor_sliced',\n",
       " '_convert',\n",
       " '_create_indexer',\n",
       " '_dir_additions',\n",
       " '_dir_deletions',\n",
       " '_expand_axes',\n",
       " '_from_axes',\n",
       " '_get_axis',\n",
       " '_get_axis_name',\n",
       " '_get_axis_number',\n",
       " '_get_axis_resolvers',\n",
       " '_get_block_manager_axis',\n",
       " '_get_bool_data',\n",
       " '_get_cacher',\n",
       " '_get_index_resolvers',\n",
       " '_get_item_cache',\n",
       " '_get_numeric_data',\n",
       " '_get_repr',\n",
       " '_get_values',\n",
       " '_get_values_tuple',\n",
       " '_get_with',\n",
       " '_iat',\n",
       " '_iget_item_cache',\n",
       " '_iloc',\n",
       " '_index',\n",
       " '_indexed_same',\n",
       " '_info_axis',\n",
       " '_info_axis_name',\n",
       " '_info_axis_number',\n",
       " '_init_mgr',\n",
       " '_internal_names',\n",
       " '_internal_names_set',\n",
       " '_is_cached',\n",
       " '_is_datelike_mixed_type',\n",
       " '_is_mixed_type',\n",
       " '_is_numeric_mixed_type',\n",
       " '_is_view',\n",
       " '_ix',\n",
       " '_ixs',\n",
       " '_loc',\n",
       " '_make_cat_accessor',\n",
       " '_make_dt_accessor',\n",
       " '_make_str_accessor',\n",
       " '_maybe_cache_changed',\n",
       " '_maybe_update_cacher',\n",
       " '_metadata',\n",
       " '_needs_reindex_multi',\n",
       " '_protect_consolidate',\n",
       " '_reduce',\n",
       " '_reindex_axes',\n",
       " '_reindex_axis',\n",
       " '_reindex_indexer',\n",
       " '_reindex_multi',\n",
       " '_reindex_with_indexers',\n",
       " '_reset_cache',\n",
       " '_reset_cacher',\n",
       " '_set_as_cached',\n",
       " '_set_axis',\n",
       " '_set_axis_name',\n",
       " '_set_is_copy',\n",
       " '_set_item',\n",
       " '_set_labels',\n",
       " '_set_name',\n",
       " '_set_subtyp',\n",
       " '_set_values',\n",
       " '_set_with',\n",
       " '_set_with_engine',\n",
       " '_setup_axes',\n",
       " '_slice',\n",
       " '_stat_axis',\n",
       " '_stat_axis_name',\n",
       " '_stat_axis_number',\n",
       " '_typ',\n",
       " '_unpickle_series_compat',\n",
       " '_update_inplace',\n",
       " '_validate_dtype',\n",
       " '_values',\n",
       " '_where',\n",
       " '_xs',\n",
       " 'abs',\n",
       " 'add',\n",
       " 'add_prefix',\n",
       " 'add_suffix',\n",
       " 'align',\n",
       " 'all',\n",
       " 'any',\n",
       " 'append',\n",
       " 'apply',\n",
       " 'argmax',\n",
       " 'argmin',\n",
       " 'argsort',\n",
       " 'as_blocks',\n",
       " 'as_matrix',\n",
       " 'asfreq',\n",
       " 'asobject',\n",
       " 'asof',\n",
       " 'astype',\n",
       " 'at',\n",
       " 'at_time',\n",
       " 'autocorr',\n",
       " 'axes',\n",
       " 'base',\n",
       " 'between',\n",
       " 'between_time',\n",
       " 'bfill',\n",
       " 'blocks',\n",
       " 'bool',\n",
       " 'clip',\n",
       " 'clip_lower',\n",
       " 'clip_upper',\n",
       " 'combine',\n",
       " 'combine_first',\n",
       " 'compound',\n",
       " 'compress',\n",
       " 'consolidate',\n",
       " 'convert_objects',\n",
       " 'copy',\n",
       " 'corr',\n",
       " 'count',\n",
       " 'cov',\n",
       " 'cummax',\n",
       " 'cummin',\n",
       " 'cumprod',\n",
       " 'cumsum',\n",
       " 'data',\n",
       " 'describe',\n",
       " 'diff',\n",
       " 'div',\n",
       " 'divide',\n",
       " 'dot',\n",
       " 'drop',\n",
       " 'drop_duplicates',\n",
       " 'dropna',\n",
       " 'dtype',\n",
       " 'dtypes',\n",
       " 'duplicated',\n",
       " 'empty',\n",
       " 'eq',\n",
       " 'equals',\n",
       " 'ewm',\n",
       " 'expanding',\n",
       " 'factorize',\n",
       " 'ffill',\n",
       " 'fillna',\n",
       " 'filter',\n",
       " 'first',\n",
       " 'first_valid_index',\n",
       " 'flags',\n",
       " 'floordiv',\n",
       " 'from_array',\n",
       " 'from_csv',\n",
       " 'ftype',\n",
       " 'ftypes',\n",
       " 'ge',\n",
       " 'get',\n",
       " 'get_dtype_counts',\n",
       " 'get_ftype_counts',\n",
       " 'get_value',\n",
       " 'get_values',\n",
       " 'groupby',\n",
       " 'gt',\n",
       " 'hasnans',\n",
       " 'head',\n",
       " 'hist',\n",
       " 'iat',\n",
       " 'idxmax',\n",
       " 'idxmin',\n",
       " 'iget',\n",
       " 'iget_value',\n",
       " 'iloc',\n",
       " 'imag',\n",
       " 'index',\n",
       " 'interpolate',\n",
       " 'irow',\n",
       " 'is_copy',\n",
       " 'is_monotonic',\n",
       " 'is_monotonic_decreasing',\n",
       " 'is_monotonic_increasing',\n",
       " 'is_time_series',\n",
       " 'is_unique',\n",
       " 'isin',\n",
       " 'isnull',\n",
       " 'item',\n",
       " 'items',\n",
       " 'itemsize',\n",
       " 'iteritems',\n",
       " 'iterkv',\n",
       " 'ix',\n",
       " 'keys',\n",
       " 'kurt',\n",
       " 'kurtosis',\n",
       " 'last',\n",
       " 'last_valid_index',\n",
       " 'le',\n",
       " 'loc',\n",
       " 'lt',\n",
       " 'mad',\n",
       " 'map',\n",
       " 'mask',\n",
       " 'max',\n",
       " 'mean',\n",
       " 'median',\n",
       " 'memory_usage',\n",
       " 'min',\n",
       " 'mod',\n",
       " 'mode',\n",
       " 'mul',\n",
       " 'multiply',\n",
       " 'name',\n",
       " 'nbytes',\n",
       " 'ndim',\n",
       " 'ne',\n",
       " 'nlargest',\n",
       " 'nonzero',\n",
       " 'notnull',\n",
       " 'nsmallest',\n",
       " 'nunique',\n",
       " 'order',\n",
       " 'pct_change',\n",
       " 'pipe',\n",
       " 'plot',\n",
       " 'pop',\n",
       " 'pow',\n",
       " 'prod',\n",
       " 'product',\n",
       " 'ptp',\n",
       " 'put',\n",
       " 'quantile',\n",
       " 'radd',\n",
       " 'rank',\n",
       " 'ravel',\n",
       " 'rdiv',\n",
       " 'real',\n",
       " 'reindex',\n",
       " 'reindex_axis',\n",
       " 'reindex_like',\n",
       " 'rename',\n",
       " 'rename_axis',\n",
       " 'reorder_levels',\n",
       " 'repeat',\n",
       " 'replace',\n",
       " 'resample',\n",
       " 'reset_index',\n",
       " 'reshape',\n",
       " 'rfloordiv',\n",
       " 'rmod',\n",
       " 'rmul',\n",
       " 'rolling',\n",
       " 'round',\n",
       " 'rpow',\n",
       " 'rsub',\n",
       " 'rtruediv',\n",
       " 'sample',\n",
       " 'searchsorted',\n",
       " 'select',\n",
       " 'sem',\n",
       " 'set_axis',\n",
       " 'set_value',\n",
       " 'shape',\n",
       " 'shift',\n",
       " 'size',\n",
       " 'skew',\n",
       " 'slice_shift',\n",
       " 'sort',\n",
       " 'sort_index',\n",
       " 'sort_values',\n",
       " 'sortlevel',\n",
       " 'squeeze',\n",
       " 'std',\n",
       " 'str',\n",
       " 'strides',\n",
       " 'sub',\n",
       " 'subtract',\n",
       " 'sum',\n",
       " 'swapaxes',\n",
       " 'swaplevel',\n",
       " 'tail',\n",
       " 'take',\n",
       " 'to_clipboard',\n",
       " 'to_csv',\n",
       " 'to_dense',\n",
       " 'to_dict',\n",
       " 'to_frame',\n",
       " 'to_hdf',\n",
       " 'to_json',\n",
       " 'to_msgpack',\n",
       " 'to_period',\n",
       " 'to_pickle',\n",
       " 'to_sparse',\n",
       " 'to_sql',\n",
       " 'to_string',\n",
       " 'to_timestamp',\n",
       " 'to_xarray',\n",
       " 'tolist',\n",
       " 'transpose',\n",
       " 'truediv',\n",
       " 'truncate',\n",
       " 'tshift',\n",
       " 'tz_convert',\n",
       " 'tz_localize',\n",
       " 'unique',\n",
       " 'unstack',\n",
       " 'update',\n",
       " 'valid',\n",
       " 'value_counts',\n",
       " 'values',\n",
       " 'var',\n",
       " 'view',\n",
       " 'where',\n",
       " 'xs']"
      ]
     },
     "execution_count": 42,
     "metadata": {},
     "output_type": "execute_result"
    }
   ],
   "source": [
    "dir(abbr) # what methods can be used on this object"
=======
   "execution_count": 16,
=======
   "execution_count": null,
>>>>>>> upstream/master
   "metadata": {},
   "outputs": [],
   "source": [
    "## dir(abbr)"
>>>>>>> upstream/master
   ]
  },
  {
   "cell_type": "markdown",
   "metadata": {},
   "source": [
    "## Data Frames\n"
   ]
  },
  {
   "cell_type": "markdown",
   "metadata": {},
   "source": [
    "### Getting columns\n",
    "\n",
    "Following ways to call columns are equivalent. The *dot notation* is easier to read."
   ]
  },
  {
   "cell_type": "code",
<<<<<<< HEAD
<<<<<<< HEAD
   "execution_count": 44,
=======
   "execution_count": 17,
>>>>>>> upstream/master
   "metadata": {},
   "outputs": [
    {
     "name": "stdout",
     "output_type": "stream",
     "text": [
      "0    1949\n",
      "1    1946\n",
      "2    1970\n",
      "3    2002\n",
      "4    1966\n",
      "Name: MIN_YEAR, dtype: object\n",
      "0    1949\n",
      "1    1946\n",
      "2    1970\n",
      "3    2002\n",
      "4    1966\n",
      "Name: MIN_YEAR, dtype: object\n"
     ]
    }
   ],
=======
   "execution_count": null,
   "metadata": {},
   "outputs": [],
>>>>>>> upstream/master
   "source": [
<<<<<<< HEAD
    "temp = teams.copy() # copy of teams with different adress i.e. temp and teams have different ids\n",
=======
    "temp = teams.copy()\n",
>>>>>>> upstream/master
    "\n",
    "print(temp['MIN_YEAR'].head())\n",
    "print(temp.MIN_YEAR.head())"
   ]
  },
  {
   "cell_type": "markdown",
   "metadata": {},
   "source": [
    "### Setting columns\n",
    "\n",
    "Note that you cannot set a new column with a dot notation. Consider the following:"
   ]
  },
  {
   "cell_type": "code",
<<<<<<< HEAD
<<<<<<< HEAD
   "execution_count": 47,
=======
   "execution_count": 18,
>>>>>>> upstream/master
   "metadata": {},
   "outputs": [
    {
     "data": {
      "text/html": [
       "<div>\n",
       "<table border=\"1\" class=\"dataframe\">\n",
       "  <thead>\n",
       "    <tr style=\"text-align: right;\">\n",
       "      <th></th>\n",
       "      <th>LEAGUE_ID</th>\n",
       "      <th>TEAM_ID</th>\n",
       "      <th>MIN_YEAR</th>\n",
       "      <th>MAX_YEAR</th>\n",
       "      <th>ABBREVIATION</th>\n",
       "      <th>new_column_1</th>\n",
       "    </tr>\n",
       "  </thead>\n",
       "  <tbody>\n",
       "    <tr>\n",
       "      <th>0</th>\n",
       "      <td>00</td>\n",
       "      <td>1610612737</td>\n",
       "      <td>1949</td>\n",
       "      <td>2017</td>\n",
       "      <td>ATL</td>\n",
       "      <td>2017</td>\n",
       "    </tr>\n",
       "    <tr>\n",
       "      <th>1</th>\n",
       "      <td>00</td>\n",
       "      <td>1610612738</td>\n",
       "      <td>1946</td>\n",
       "      <td>2017</td>\n",
       "      <td>BOS</td>\n",
       "      <td>2017</td>\n",
       "    </tr>\n",
       "    <tr>\n",
       "      <th>2</th>\n",
       "      <td>00</td>\n",
       "      <td>1610612739</td>\n",
       "      <td>1970</td>\n",
       "      <td>2017</td>\n",
       "      <td>CLE</td>\n",
       "      <td>2017</td>\n",
       "    </tr>\n",
       "    <tr>\n",
       "      <th>3</th>\n",
       "      <td>00</td>\n",
       "      <td>1610612740</td>\n",
       "      <td>2002</td>\n",
       "      <td>2017</td>\n",
       "      <td>NOP</td>\n",
       "      <td>2017</td>\n",
       "    </tr>\n",
       "    <tr>\n",
       "      <th>4</th>\n",
       "      <td>00</td>\n",
       "      <td>1610612741</td>\n",
       "      <td>1966</td>\n",
       "      <td>2017</td>\n",
       "      <td>CHI</td>\n",
       "      <td>2017</td>\n",
       "    </tr>\n",
       "  </tbody>\n",
       "</table>\n",
       "</div>"
      ],
      "text/plain": [
       "  LEAGUE_ID     TEAM_ID MIN_YEAR MAX_YEAR ABBREVIATION new_column_1\n",
       "0        00  1610612737     1949     2017          ATL         2017\n",
       "1        00  1610612738     1946     2017          BOS         2017\n",
       "2        00  1610612739     1970     2017          CLE         2017\n",
       "3        00  1610612740     2002     2017          NOP         2017\n",
       "4        00  1610612741     1966     2017          CHI         2017"
      ]
     },
<<<<<<< HEAD
     "execution_count": 47,
=======
     "execution_count": 18,
>>>>>>> upstream/master
     "metadata": {},
     "output_type": "execute_result"
    }
   ],
=======
   "execution_count": null,
   "metadata": {},
   "outputs": [],
>>>>>>> upstream/master
   "source": [
    "temp['new_column_1'] = temp.MAX_YEAR\n",
    "temp.new_column_2 = temp.MAX_YEAR  # no new column 2 appears w/ dot notation\n",
    "temp.head()"
   ]
  },
  {
   "cell_type": "markdown",
   "metadata": {},
   "source": [
    "However, you can set an existing column with dot notation."
   ]
  },
  {
   "cell_type": "code",
<<<<<<< HEAD
<<<<<<< HEAD
   "execution_count": 48,
=======
   "execution_count": 19,
>>>>>>> upstream/master
   "metadata": {},
   "outputs": [
    {
     "data": {
      "text/html": [
       "<div>\n",
       "<table border=\"1\" class=\"dataframe\">\n",
       "  <thead>\n",
       "    <tr style=\"text-align: right;\">\n",
       "      <th></th>\n",
       "      <th>LEAGUE_ID</th>\n",
       "      <th>TEAM_ID</th>\n",
       "      <th>MIN_YEAR</th>\n",
       "      <th>MAX_YEAR</th>\n",
       "      <th>ABBREVIATION</th>\n",
       "      <th>new_column_1</th>\n",
       "    </tr>\n",
       "  </thead>\n",
       "  <tbody>\n",
       "    <tr>\n",
       "      <th>0</th>\n",
       "      <td>ZZ</td>\n",
       "      <td>1610612737</td>\n",
       "      <td>1949</td>\n",
       "      <td>2017</td>\n",
       "      <td>ATL</td>\n",
       "      <td>2017</td>\n",
       "    </tr>\n",
       "    <tr>\n",
       "      <th>1</th>\n",
       "      <td>ZZ</td>\n",
       "      <td>1610612738</td>\n",
       "      <td>1946</td>\n",
       "      <td>2017</td>\n",
       "      <td>BOS</td>\n",
       "      <td>2017</td>\n",
       "    </tr>\n",
       "    <tr>\n",
       "      <th>2</th>\n",
       "      <td>ZZ</td>\n",
       "      <td>1610612739</td>\n",
       "      <td>1970</td>\n",
       "      <td>2017</td>\n",
       "      <td>CLE</td>\n",
       "      <td>2017</td>\n",
       "    </tr>\n",
       "    <tr>\n",
       "      <th>3</th>\n",
       "      <td>ZZ</td>\n",
       "      <td>1610612740</td>\n",
       "      <td>2002</td>\n",
       "      <td>2017</td>\n",
       "      <td>NOP</td>\n",
       "      <td>2017</td>\n",
       "    </tr>\n",
       "    <tr>\n",
       "      <th>4</th>\n",
       "      <td>ZZ</td>\n",
       "      <td>1610612741</td>\n",
       "      <td>1966</td>\n",
       "      <td>2017</td>\n",
       "      <td>CHI</td>\n",
       "      <td>2017</td>\n",
       "    </tr>\n",
       "  </tbody>\n",
       "</table>\n",
       "</div>"
      ],
      "text/plain": [
       "  LEAGUE_ID     TEAM_ID MIN_YEAR MAX_YEAR ABBREVIATION new_column_1\n",
       "0        ZZ  1610612737     1949     2017          ATL         2017\n",
       "1        ZZ  1610612738     1946     2017          BOS         2017\n",
       "2        ZZ  1610612739     1970     2017          CLE         2017\n",
       "3        ZZ  1610612740     2002     2017          NOP         2017\n",
       "4        ZZ  1610612741     1966     2017          CHI         2017"
      ]
     },
<<<<<<< HEAD
     "execution_count": 48,
=======
     "execution_count": 19,
>>>>>>> upstream/master
     "metadata": {},
     "output_type": "execute_result"
    }
   ],
=======
   "execution_count": null,
   "metadata": {},
   "outputs": [],
>>>>>>> upstream/master
   "source": [
<<<<<<< HEAD
    "temp.LEAGUE_ID = 'ZZ' \n",
=======
    "temp.LEAGUE_ID = 'ZZ'\n",
>>>>>>> upstream/master
    "temp.head()"
   ]
  },
  {
   "cell_type": "markdown",
   "metadata": {},
   "source": [
    "### Data Frame, Series, dtype\n",
    "\n",
    "This is different than R data frame in that columns in R data frames have their data types: e.g., `factor`, `integer`, `numeric`, etc. Pandas data frame columns are *all* `Series` with different dtypes. With column types not specified, everything is of dtype `object`:"
   ]
  },
  {
   "cell_type": "code",
<<<<<<< HEAD
<<<<<<< HEAD
   "execution_count": 49,
=======
   "execution_count": 20,
>>>>>>> upstream/master
   "metadata": {},
   "outputs": [
    {
     "name": "stdout",
     "output_type": "stream",
     "text": [
      "object\n"
     ]
    }
   ],
=======
   "execution_count": null,
   "metadata": {},
   "outputs": [],
>>>>>>> upstream/master
   "source": [
    "print(teams.ABBREVIATION.dtype)"
   ]
  },
  {
   "cell_type": "code",
<<<<<<< HEAD
<<<<<<< HEAD
   "execution_count": 50,
=======
   "execution_count": 21,
>>>>>>> upstream/master
=======
   "execution_count": null,
>>>>>>> upstream/master
   "metadata": {},
   "outputs": [],
   "source": [
    "teams.ABBREVIATION = teams.ABBREVIATION.astype('category')\n",
    "teams.TEAM_ID      = teams.TEAM_ID.astype('category')\n",
    "teams.MIN_YEAR     = teams.MIN_YEAR.astype('int')\n",
    "teams.MAX_YEAR     = teams.MAX_YEAR.astype('int')"
   ]
  },
  {
   "cell_type": "markdown",
   "metadata": {},
   "source": [
    "Note that `object` is a general term"
   ]
  },
  {
   "cell_type": "code",
<<<<<<< HEAD
<<<<<<< HEAD
   "execution_count": 51,
=======
   "execution_count": 22,
>>>>>>> upstream/master
   "metadata": {},
   "outputs": [
    {
     "name": "stdout",
     "output_type": "stream",
     "text": [
      "<class 'pandas.core.series.Series'>\n",
      "LEAGUE_ID               00\n",
      "TEAM_ID         1610612737\n",
      "MIN_YEAR              1949\n",
      "MAX_YEAR              2017\n",
      "ABBREVIATION           ATL\n",
      "Name: 0, dtype: object\n"
     ]
    }
   ],
=======
   "execution_count": null,
   "metadata": {},
   "outputs": [],
>>>>>>> upstream/master
   "source": [
    "print(type(teams.iloc[0]))\n",
    "print(teams.iloc[0])"
   ]
  },
  {
   "cell_type": "markdown",
   "metadata": {},
   "source": [
    "### Condition based slicing\n",
    "\n",
    "Subset just the current teams"
   ]
  },
  {
   "cell_type": "code",
<<<<<<< HEAD
<<<<<<< HEAD
   "execution_count": 59,
=======
   "execution_count": 23,
>>>>>>> upstream/master
   "metadata": {},
   "outputs": [
    {
     "data": {
      "text/html": [
       "<div>\n",
       "<table border=\"1\" class=\"dataframe\">\n",
       "  <thead>\n",
       "    <tr style=\"text-align: right;\">\n",
       "      <th></th>\n",
       "      <th>LEAGUE_ID</th>\n",
       "      <th>TEAM_ID</th>\n",
       "      <th>MIN_YEAR</th>\n",
       "      <th>MAX_YEAR</th>\n",
       "      <th>ABBREVIATION</th>\n",
       "      <th>TEAM_AGE</th>\n",
       "    </tr>\n",
       "  </thead>\n",
       "  <tbody>\n",
       "    <tr>\n",
       "      <th>0</th>\n",
       "      <td>00</td>\n",
       "      <td>1610612737</td>\n",
       "      <td>1949</td>\n",
       "      <td>2017</td>\n",
       "      <td>ATL</td>\n",
       "      <td>68</td>\n",
       "    </tr>\n",
       "    <tr>\n",
       "      <th>1</th>\n",
       "      <td>00</td>\n",
       "      <td>1610612738</td>\n",
       "      <td>1946</td>\n",
       "      <td>2017</td>\n",
       "      <td>BOS</td>\n",
       "      <td>71</td>\n",
       "    </tr>\n",
       "    <tr>\n",
       "      <th>2</th>\n",
       "      <td>00</td>\n",
       "      <td>1610612739</td>\n",
       "      <td>1970</td>\n",
       "      <td>2017</td>\n",
       "      <td>CLE</td>\n",
       "      <td>47</td>\n",
       "    </tr>\n",
       "    <tr>\n",
       "      <th>3</th>\n",
       "      <td>00</td>\n",
       "      <td>1610612740</td>\n",
       "      <td>2002</td>\n",
       "      <td>2017</td>\n",
       "      <td>NOP</td>\n",
       "      <td>15</td>\n",
       "    </tr>\n",
       "    <tr>\n",
       "      <th>4</th>\n",
       "      <td>00</td>\n",
       "      <td>1610612741</td>\n",
       "      <td>1966</td>\n",
       "      <td>2017</td>\n",
       "      <td>CHI</td>\n",
       "      <td>51</td>\n",
       "    </tr>\n",
       "    <tr>\n",
       "      <th>5</th>\n",
       "      <td>00</td>\n",
       "      <td>1610612742</td>\n",
       "      <td>1980</td>\n",
       "      <td>2017</td>\n",
       "      <td>DAL</td>\n",
       "      <td>37</td>\n",
       "    </tr>\n",
       "    <tr>\n",
       "      <th>6</th>\n",
       "      <td>00</td>\n",
       "      <td>1610612743</td>\n",
       "      <td>1976</td>\n",
       "      <td>2017</td>\n",
       "      <td>DEN</td>\n",
       "      <td>41</td>\n",
       "    </tr>\n",
       "    <tr>\n",
       "      <th>7</th>\n",
       "      <td>00</td>\n",
       "      <td>1610612744</td>\n",
       "      <td>1946</td>\n",
       "      <td>2017</td>\n",
       "      <td>GSW</td>\n",
       "      <td>71</td>\n",
       "    </tr>\n",
       "    <tr>\n",
       "      <th>8</th>\n",
       "      <td>00</td>\n",
       "      <td>1610612745</td>\n",
       "      <td>1967</td>\n",
       "      <td>2017</td>\n",
       "      <td>HOU</td>\n",
       "      <td>50</td>\n",
       "    </tr>\n",
       "    <tr>\n",
       "      <th>9</th>\n",
       "      <td>00</td>\n",
       "      <td>1610612746</td>\n",
       "      <td>1970</td>\n",
       "      <td>2017</td>\n",
       "      <td>LAC</td>\n",
       "      <td>47</td>\n",
       "    </tr>\n",
       "    <tr>\n",
       "      <th>10</th>\n",
       "      <td>00</td>\n",
       "      <td>1610612747</td>\n",
       "      <td>1948</td>\n",
       "      <td>2017</td>\n",
       "      <td>LAL</td>\n",
       "      <td>69</td>\n",
       "    </tr>\n",
       "    <tr>\n",
       "      <th>11</th>\n",
       "      <td>00</td>\n",
       "      <td>1610612748</td>\n",
       "      <td>1988</td>\n",
       "      <td>2017</td>\n",
       "      <td>MIA</td>\n",
       "      <td>29</td>\n",
       "    </tr>\n",
       "    <tr>\n",
       "      <th>12</th>\n",
       "      <td>00</td>\n",
       "      <td>1610612749</td>\n",
       "      <td>1968</td>\n",
       "      <td>2017</td>\n",
       "      <td>MIL</td>\n",
       "      <td>49</td>\n",
       "    </tr>\n",
       "    <tr>\n",
       "      <th>13</th>\n",
       "      <td>00</td>\n",
       "      <td>1610612750</td>\n",
       "      <td>1989</td>\n",
       "      <td>2017</td>\n",
       "      <td>MIN</td>\n",
       "      <td>28</td>\n",
       "    </tr>\n",
       "    <tr>\n",
       "      <th>14</th>\n",
       "      <td>00</td>\n",
       "      <td>1610612751</td>\n",
       "      <td>1976</td>\n",
       "      <td>2017</td>\n",
       "      <td>BKN</td>\n",
       "      <td>41</td>\n",
       "    </tr>\n",
       "    <tr>\n",
       "      <th>15</th>\n",
       "      <td>00</td>\n",
       "      <td>1610612752</td>\n",
       "      <td>1946</td>\n",
       "      <td>2017</td>\n",
       "      <td>NYK</td>\n",
       "      <td>71</td>\n",
       "    </tr>\n",
       "    <tr>\n",
       "      <th>16</th>\n",
       "      <td>00</td>\n",
       "      <td>1610612753</td>\n",
       "      <td>1989</td>\n",
       "      <td>2017</td>\n",
       "      <td>ORL</td>\n",
       "      <td>28</td>\n",
       "    </tr>\n",
       "    <tr>\n",
       "      <th>17</th>\n",
       "      <td>00</td>\n",
       "      <td>1610612754</td>\n",
       "      <td>1976</td>\n",
       "      <td>2017</td>\n",
       "      <td>IND</td>\n",
       "      <td>41</td>\n",
       "    </tr>\n",
       "    <tr>\n",
       "      <th>18</th>\n",
       "      <td>00</td>\n",
       "      <td>1610612755</td>\n",
       "      <td>1949</td>\n",
       "      <td>2017</td>\n",
       "      <td>PHI</td>\n",
       "      <td>68</td>\n",
       "    </tr>\n",
       "    <tr>\n",
       "      <th>19</th>\n",
       "      <td>00</td>\n",
       "      <td>1610612756</td>\n",
       "      <td>1968</td>\n",
       "      <td>2017</td>\n",
       "      <td>PHX</td>\n",
       "      <td>49</td>\n",
       "    </tr>\n",
       "    <tr>\n",
       "      <th>20</th>\n",
       "      <td>00</td>\n",
       "      <td>1610612757</td>\n",
       "      <td>1970</td>\n",
       "      <td>2017</td>\n",
       "      <td>POR</td>\n",
       "      <td>47</td>\n",
       "    </tr>\n",
       "    <tr>\n",
       "      <th>21</th>\n",
       "      <td>00</td>\n",
       "      <td>1610612758</td>\n",
       "      <td>1948</td>\n",
       "      <td>2017</td>\n",
       "      <td>SAC</td>\n",
       "      <td>69</td>\n",
       "    </tr>\n",
       "    <tr>\n",
       "      <th>22</th>\n",
       "      <td>00</td>\n",
       "      <td>1610612759</td>\n",
       "      <td>1976</td>\n",
       "      <td>2017</td>\n",
       "      <td>SAS</td>\n",
       "      <td>41</td>\n",
       "    </tr>\n",
       "    <tr>\n",
       "      <th>23</th>\n",
       "      <td>00</td>\n",
       "      <td>1610612760</td>\n",
       "      <td>1967</td>\n",
       "      <td>2017</td>\n",
       "      <td>OKC</td>\n",
       "      <td>50</td>\n",
       "    </tr>\n",
       "    <tr>\n",
       "      <th>24</th>\n",
       "      <td>00</td>\n",
       "      <td>1610612761</td>\n",
       "      <td>1995</td>\n",
       "      <td>2017</td>\n",
       "      <td>TOR</td>\n",
       "      <td>22</td>\n",
       "    </tr>\n",
       "    <tr>\n",
       "      <th>25</th>\n",
       "      <td>00</td>\n",
       "      <td>1610612762</td>\n",
       "      <td>1974</td>\n",
       "      <td>2017</td>\n",
       "      <td>UTA</td>\n",
       "      <td>43</td>\n",
       "    </tr>\n",
       "    <tr>\n",
       "      <th>26</th>\n",
       "      <td>00</td>\n",
       "      <td>1610612763</td>\n",
       "      <td>1995</td>\n",
       "      <td>2017</td>\n",
       "      <td>MEM</td>\n",
       "      <td>22</td>\n",
       "    </tr>\n",
       "    <tr>\n",
       "      <th>27</th>\n",
       "      <td>00</td>\n",
       "      <td>1610612764</td>\n",
       "      <td>1961</td>\n",
       "      <td>2017</td>\n",
       "      <td>WAS</td>\n",
       "      <td>56</td>\n",
       "    </tr>\n",
       "    <tr>\n",
       "      <th>28</th>\n",
       "      <td>00</td>\n",
       "      <td>1610612765</td>\n",
       "      <td>1948</td>\n",
       "      <td>2017</td>\n",
       "      <td>DET</td>\n",
       "      <td>69</td>\n",
       "    </tr>\n",
       "    <tr>\n",
       "      <th>29</th>\n",
       "      <td>00</td>\n",
       "      <td>1610612766</td>\n",
       "      <td>1988</td>\n",
       "      <td>2017</td>\n",
       "      <td>CHA</td>\n",
       "      <td>29</td>\n",
       "    </tr>\n",
       "  </tbody>\n",
       "</table>\n",
       "</div>"
      ],
      "text/plain": [
       "   LEAGUE_ID     TEAM_ID  MIN_YEAR  MAX_YEAR ABBREVIATION  TEAM_AGE\n",
       "0         00  1610612737      1949      2017          ATL        68\n",
       "1         00  1610612738      1946      2017          BOS        71\n",
       "2         00  1610612739      1970      2017          CLE        47\n",
       "3         00  1610612740      2002      2017          NOP        15\n",
       "4         00  1610612741      1966      2017          CHI        51\n",
       "5         00  1610612742      1980      2017          DAL        37\n",
       "6         00  1610612743      1976      2017          DEN        41\n",
       "7         00  1610612744      1946      2017          GSW        71\n",
       "8         00  1610612745      1967      2017          HOU        50\n",
       "9         00  1610612746      1970      2017          LAC        47\n",
       "10        00  1610612747      1948      2017          LAL        69\n",
       "11        00  1610612748      1988      2017          MIA        29\n",
       "12        00  1610612749      1968      2017          MIL        49\n",
       "13        00  1610612750      1989      2017          MIN        28\n",
       "14        00  1610612751      1976      2017          BKN        41\n",
       "15        00  1610612752      1946      2017          NYK        71\n",
       "16        00  1610612753      1989      2017          ORL        28\n",
       "17        00  1610612754      1976      2017          IND        41\n",
       "18        00  1610612755      1949      2017          PHI        68\n",
       "19        00  1610612756      1968      2017          PHX        49\n",
       "20        00  1610612757      1970      2017          POR        47\n",
       "21        00  1610612758      1948      2017          SAC        69\n",
       "22        00  1610612759      1976      2017          SAS        41\n",
       "23        00  1610612760      1967      2017          OKC        50\n",
       "24        00  1610612761      1995      2017          TOR        22\n",
       "25        00  1610612762      1974      2017          UTA        43\n",
       "26        00  1610612763      1995      2017          MEM        22\n",
       "27        00  1610612764      1961      2017          WAS        56\n",
       "28        00  1610612765      1948      2017          DET        69\n",
       "29        00  1610612766      1988      2017          CHA        29"
      ]
     },
<<<<<<< HEAD
     "execution_count": 59,
=======
     "execution_count": 23,
>>>>>>> upstream/master
     "metadata": {},
     "output_type": "execute_result"
    }
   ],
=======
   "execution_count": null,
   "metadata": {},
   "outputs": [],
>>>>>>> upstream/master
   "source": [
    "teams = teams[teams.MAX_YEAR == 2017]\n",
    "teams['TEAM_AGE'] = teams.MAX_YEAR - teams.MIN_YEAR\n",
    "\n",
    "teams_clean = teams.copy() ## make a copy for later\n",
    "teams"
   ]
  },
  {
   "cell_type": "markdown",
   "metadata": {},
   "source": [
    "Note the following indexing"
   ]
  },
  {
   "cell_type": "code",
<<<<<<< HEAD
<<<<<<< HEAD
   "execution_count": 60,
=======
   "execution_count": 24,
>>>>>>> upstream/master
   "metadata": {},
   "outputs": [
    {
     "name": "stdout",
     "output_type": "stream",
     "text": [
      "*** indexing with .iloc:\n",
      " LEAGUE_ID               00\n",
      "TEAM_ID         1610612738\n",
      "MIN_YEAR              1946\n",
      "MAX_YEAR              2017\n",
      "ABBREVIATION           BOS\n",
      "TEAM_AGE                71\n",
      "Name: 1, dtype: object\n",
      "\n",
      "*** indexing with .loc :\n",
      " LEAGUE_ID               00\n",
      "TEAM_ID         1610612751\n",
      "MIN_YEAR              1976\n",
      "MAX_YEAR              2017\n",
      "ABBREVIATION           BKN\n",
      "TEAM_AGE                41\n",
      "Name: 14, dtype: object\n"
     ]
    }
   ],
=======
   "execution_count": null,
   "metadata": {},
   "outputs": [],
>>>>>>> upstream/master
   "source": [
    "print('*** indexing with .iloc:\\n', teams.iloc[1])\n",
    "print('\\n*** indexing with .loc :\\n', teams.loc[14])"
   ]
  },
  {
   "cell_type": "markdown",
   "metadata": {},
   "source": [
    "Subset just the players in current teams:"
   ]
  },
  {
   "cell_type": "code",
<<<<<<< HEAD
<<<<<<< HEAD
   "execution_count": 61,
=======
   "execution_count": 25,
>>>>>>> upstream/master
   "metadata": {},
   "outputs": [
    {
     "data": {
      "text/html": [
       "<div>\n",
       "<table border=\"1\" class=\"dataframe\">\n",
       "  <thead>\n",
       "    <tr style=\"text-align: right;\">\n",
       "      <th></th>\n",
       "      <th>PERSON_ID</th>\n",
       "      <th>DISPLAY_LAST_COMMA_FIRST</th>\n",
       "      <th>DISPLAY_FIRST_LAST</th>\n",
       "      <th>ROSTERSTATUS</th>\n",
       "      <th>FROM_YEAR</th>\n",
       "      <th>TO_YEAR</th>\n",
       "      <th>PLAYERCODE</th>\n",
       "      <th>TEAM_ID</th>\n",
       "      <th>TEAM_CITY</th>\n",
       "      <th>TEAM_NAME</th>\n",
       "      <th>TEAM_ABBREVIATION</th>\n",
       "      <th>TEAM_CODE</th>\n",
       "      <th>GAMES_PLAYED_FLAG</th>\n",
       "    </tr>\n",
       "  </thead>\n",
       "  <tbody>\n",
       "    <tr>\n",
       "      <th>4266</th>\n",
       "      <td>203469</td>\n",
       "      <td>Zeller, Cody</td>\n",
       "      <td>Cody Zeller</td>\n",
       "      <td>1</td>\n",
       "      <td>2013</td>\n",
       "      <td>2017</td>\n",
       "      <td>cody_zeller</td>\n",
       "      <td>1610612766</td>\n",
       "      <td>Charlotte</td>\n",
       "      <td>Hornets</td>\n",
       "      <td>CHA</td>\n",
       "      <td>hornets</td>\n",
       "      <td>Y</td>\n",
       "    </tr>\n",
       "    <tr>\n",
       "      <th>4271</th>\n",
       "      <td>203092</td>\n",
       "      <td>Zeller, Tyler</td>\n",
       "      <td>Tyler Zeller</td>\n",
       "      <td>1</td>\n",
       "      <td>2012</td>\n",
       "      <td>2017</td>\n",
       "      <td>tyler_zeller</td>\n",
       "      <td>1610612738</td>\n",
       "      <td>Boston</td>\n",
       "      <td>Celtics</td>\n",
       "      <td>BOS</td>\n",
       "      <td>celtics</td>\n",
       "      <td>Y</td>\n",
       "    </tr>\n",
       "    <tr>\n",
       "      <th>4277</th>\n",
       "      <td>1627757</td>\n",
       "      <td>Zimmerman, Stephen</td>\n",
       "      <td>Stephen Zimmerman</td>\n",
       "      <td>1</td>\n",
       "      <td>2016</td>\n",
       "      <td>2016</td>\n",
       "      <td>stephen_zimmerman</td>\n",
       "      <td>1610612753</td>\n",
       "      <td>Orlando</td>\n",
       "      <td>Magic</td>\n",
       "      <td>ORL</td>\n",
       "      <td>magic</td>\n",
       "      <td>Y</td>\n",
       "    </tr>\n",
       "    <tr>\n",
       "      <th>4278</th>\n",
       "      <td>1627835</td>\n",
       "      <td>Zipser, Paul</td>\n",
       "      <td>Paul Zipser</td>\n",
       "      <td>1</td>\n",
       "      <td>2016</td>\n",
       "      <td>2017</td>\n",
       "      <td>paul_zipser</td>\n",
       "      <td>1610612741</td>\n",
       "      <td>Chicago</td>\n",
       "      <td>Bulls</td>\n",
       "      <td>CHI</td>\n",
       "      <td>bulls</td>\n",
       "      <td>Y</td>\n",
       "    </tr>\n",
       "    <tr>\n",
       "      <th>4282</th>\n",
       "      <td>1627826</td>\n",
       "      <td>Zubac, Ivica</td>\n",
       "      <td>Ivica Zubac</td>\n",
       "      <td>1</td>\n",
       "      <td>2016</td>\n",
       "      <td>2017</td>\n",
       "      <td>ivica_zubac</td>\n",
       "      <td>1610612747</td>\n",
       "      <td>Los Angeles</td>\n",
       "      <td>Lakers</td>\n",
       "      <td>LAL</td>\n",
       "      <td>lakers</td>\n",
       "      <td>Y</td>\n",
       "    </tr>\n",
       "  </tbody>\n",
       "</table>\n",
       "</div>"
      ],
      "text/plain": [
       "      PERSON_ID DISPLAY_LAST_COMMA_FIRST DISPLAY_FIRST_LAST  ROSTERSTATUS  \\\n",
       "4266     203469             Zeller, Cody        Cody Zeller             1   \n",
       "4271     203092            Zeller, Tyler       Tyler Zeller             1   \n",
       "4277    1627757       Zimmerman, Stephen  Stephen Zimmerman             1   \n",
       "4278    1627835             Zipser, Paul        Paul Zipser             1   \n",
       "4282    1627826             Zubac, Ivica        Ivica Zubac             1   \n",
       "\n",
       "     FROM_YEAR TO_YEAR         PLAYERCODE     TEAM_ID    TEAM_CITY TEAM_NAME  \\\n",
       "4266      2013    2017        cody_zeller  1610612766    Charlotte   Hornets   \n",
       "4271      2012    2017       tyler_zeller  1610612738       Boston   Celtics   \n",
       "4277      2016    2016  stephen_zimmerman  1610612753      Orlando     Magic   \n",
       "4278      2016    2017        paul_zipser  1610612741      Chicago     Bulls   \n",
       "4282      2016    2017        ivica_zubac  1610612747  Los Angeles    Lakers   \n",
       "\n",
       "     TEAM_ABBREVIATION TEAM_CODE GAMES_PLAYED_FLAG  \n",
       "4266               CHA   hornets                 Y  \n",
       "4271               BOS   celtics                 Y  \n",
       "4277               ORL     magic                 Y  \n",
       "4278               CHI     bulls                 Y  \n",
       "4282               LAL    lakers                 Y  "
      ]
     },
<<<<<<< HEAD
     "execution_count": 61,
=======
     "execution_count": 25,
>>>>>>> upstream/master
     "metadata": {},
     "output_type": "execute_result"
    }
   ],
=======
   "execution_count": null,
   "metadata": {},
   "outputs": [],
>>>>>>> upstream/master
   "source": [
    "players = players[players.TEAM_ID.isin(teams.TEAM_ID)]\n",
    "players.tail()"
   ]
  },
  {
   "cell_type": "markdown",
   "metadata": {},
   "source": [
    "List players groupped by teams:"
   ]
  },
  {
   "cell_type": "code",
<<<<<<< HEAD
<<<<<<< HEAD
   "execution_count": 62,
=======
   "execution_count": 26,
>>>>>>> upstream/master
   "metadata": {},
   "outputs": [
    {
     "data": {
      "text/plain": [
<<<<<<< HEAD
       "<pandas.core.groupby.DataFrameGroupBy object at 0x7fcb16d0e9b0>"
      ]
     },
     "execution_count": 62,
=======
       "<pandas.core.groupby.DataFrameGroupBy object at 0x7f4c6aaf3ef0>"
      ]
     },
     "execution_count": 26,
>>>>>>> upstream/master
     "metadata": {},
     "output_type": "execute_result"
    }
   ],
=======
   "execution_count": null,
   "metadata": {},
   "outputs": [],
>>>>>>> upstream/master
   "source": [
    "players.groupby('TEAM_CODE')"
   ]
  },
  {
   "cell_type": "markdown",
   "metadata": {},
   "source": [
    "Above is called an iterable. You can iterate on the object to see the _views_."
   ]
  },
  {
   "cell_type": "code",
<<<<<<< HEAD
<<<<<<< HEAD
   "execution_count": 74,
=======
   "execution_count": 27,
>>>>>>> upstream/master
   "metadata": {},
   "outputs": [
    {
     "name": "stdout",
     "output_type": "stream",
     "text": [
<<<<<<< HEAD
      "Anderson, Justin; Bayless, Jerryd; Covington, Robert; Embiid, Joel; Henderson, Gerald; Holmes, Richaun; Long, Shawn; Luwawu-Cabarrot, Timothe; McConnell, T.J.; Okafor, Jahlil; Poythress, Alex; Rodriguez, Sergio; Saric, Dario; Simmons, Ben; Splitter, Tiago; Stauskas, Nik \n",
      "\n",
      "Antetokounmpo, Giannis; Beasley, Michael; Brogdon, Malcolm; Dellavedova, Matthew; Hawes, Spencer; Henson, John; Maker, Thon; Middleton, Khris; Monroe, Greg; Parker, Jabari; Payton II, Gary; Snell, Tony; Teletovic, Mirza; Terry, Jason; Vaughn, Rashad \n",
      "\n",
      "Butler, Jimmy; Canaan, Isaiah; Carter-Williams, Michael; Felicio, Cristiano; Grant, Jerian; Lauvergne, Joffrey; Lopez, Robin; Mirotic, Nikola; Morrow, Anthony; Payne, Cameron; Portis, Bobby; Rondo, Rajon; Valentine, Denzel; Wade, Dwyane; Zipser, Paul \n",
      "\n",
      "Felder, Kay; Frye, Channing; Irving, Kyrie; James, LeBron; Jefferson, Richard; Jones, Dahntay; Jones, James; Korver, Kyle; Love, Kevin; Shumpert, Iman; Smith, JR; Tavares, Edy; Thompson, Tristan; Williams, Deron; Williams, Derrick \n",
      "\n",
      "Bradley, Avery; Brown, Jaylen; Crowder, Jae; Green, Gerald; Horford, Al; Jackson, Demetrius; Jerebko, Jonas; Johnson, Amir; Mickey, Jordan; Olynyk, Kelly; Rozier, Terry; Smart, Marcus; Thomas, Isaiah; Young, James; Zeller, Tyler \n",
      "\n",
      "Anderson, Alan; Bass, Brandon; Crawford, Jamal; Felton, Raymond; Griffin, Blake; Johnson, Brice; Johnson, Wesley; Jordan, DeAndre; Mbah a Moute, Luc; Paul, Chris; Pierce, Paul; Redick, JJ; Rivers, Austin; Speights, Marreese; Stone, Diamond \n",
      "\n",
      "Allen, Tony; Baldwin IV, Wade; Carter, Vince; Conley, Mike; Daniels, Troy; Davis, Deyonta; Ennis III, James; Gasol, Marc; Green, JaMychal; Harrison, Andrew; Martin, Jarell; Parsons, Chandler; Randolph, Zach; Selden, Wayne; Wright, Brandan \n",
      "\n",
      "Bazemore, Kent; Bembry, DeAndre'; Calderon, Jose; Delaney, Malcolm; Dunleavy, Mike; Hardaway Jr., Tim; Howard, Dwight; Humphries, Kris; Ilyasova, Ersan; Kelly, Ryan; Millsap, Paul; Muscala, Mike; Prince, Taurean; Schroder, Dennis; Sefolosha, Thabo \n",
      "\n",
      "Babbitt, Luke; Bosh, Chris; Dragic, Goran; Ellington, Wayne; Haslem, Udonis; Johnson, James; Johnson, Tyler; McGruder, Rodney; McRoberts, Josh; Reed, Willie; Richardson, Josh; Waiters, Dion; White, Okaro; Whiteside, Hassan; Winslow, Justise \n",
      "\n",
      "Batum, Nicolas; Belinelli, Marco; Graham, Treveon; Kaminsky, Frank; Kidd-Gilchrist, Michael; Lamb, Jeremy; O'Bryant III, Johnny; Plumlee, Miles; Roberts, Brian; Sessions, Ramon; Walker, Kemba; Weber, Briante; Williams, Marvin; Wood, Christian; Zeller, Cody \n",
      "\n",
      "Bolomboy, Joel; Burks, Alec; Diaw, Boris; Exum, Dante; Favors, Derrick; Gobert, Rudy; Hayward, Gordon; Hill, George; Hood, Rodney; Ingles, Joe; Johnson, Joe; Lyles, Trey; Mack, Shelvin; Neto, Raul; Withey, Jeff \n",
      "\n",
      "Afflalo, Arron; Cauley-Stein, Willie; Collison, Darren; Evans, Tyreke; Galloway, Langston; Gay, Rudy; Hield, Buddy; Koufos, Kosta; Labissiere, Skal; Lawson, Ty; McLemore, Ben; Papagiannis, Georgios; Richardson, Malachi; Temple, Garrett \n",
      "\n",
      "Anthony, Carmelo; Baker, Ron; Hernangomez, Willy; Holiday, Justin; Kuzminskas, Mindaugas; Lee, Courtney; Ndour, Maurice; Noah, Joakim; O'Quinn, Kyle; Plumlee, Marshall; Porzingis, Kristaps; Randle, Chasson; Rose, Derrick; Thomas, Lance; Vujacic, Sasha \n",
      "\n",
      "Black, Tarik; Brewer, Corey; Clarkson, Jordan; Deng, Luol; Ennis, Tyler; Ingram, Brandon; Mozgov, Timofey; Nance Jr., Larry; Nwaba, David; Randle, Julius; Robinson, Thomas; Russell, D'Angelo; World Peace, Metta; Young, Nick; Zubac, Ivica \n",
      "\n",
      "Augustin, D.J.; Biyombo, Bismack; Fournier, Evan; Garino, Patricio; Georges-Hunt, Marcus; Gordon, Aaron; Green, Jeff; Hezonja, Mario; Meeks, Jodie; Payton, Elfrid; Ross, Terrence; Rudez, Damjan; Vucevic, Nikola; Watson, C.J.; Zimmerman, Stephen \n",
      "\n",
      "Barea, J.J.; Barnes, Harrison; Brussino, Nicolas; Curry, Seth; Ferrell, Yogi; Finney-Smith, Dorian; Hammons, AJ; Harris, Devin; Harris, Manny; Liggins, DeAndre; Matthews, Wesley; Mejri, Salah; Noel, Nerlens; Nowitzki, Dirk; Powell, Dwight; Uthoff, Jarrod \n",
      "\n",
      "Acy, Quincy; Booker, Trevor; Dinwiddie, Spencer; Foye, Randy; Goodwin, Archie; Hamilton, Justin; Harris, Joe; Hollis-Jefferson, Rondae; Kilpatrick, Sean; LeVert, Caris; Lin, Jeremy; Lopez, Brook; McDaniels, KJ; Nicholson, Andrew; Whitehead, Isaiah \n",
      "\n",
      "Arthur, Darrell; Barton, Will; Beasley, Malik; Chandler, Wilson; Faried, Kenneth; Gallinari, Danilo; Harris, Gary; Hernangomez, Juancho; Hibbert, Roy; Jokic, Nikola; Miller, Mike; Mudiay, Emmanuel; Murray, Jamal; Nelson, Jameer; Plumlee, Mason \n",
      "\n",
      "Allen, Lavoy; Brooks, Aaron; Christmas, Rakeem; Ellis, Monta; George, Paul; Jefferson, Al; Miles, CJ; Niang, Georges; Robinson III, Glenn; Seraphin, Kevin; Stephenson, Lance; Teague, Jeff; Turner, Myles; Young, Joe; Young, Thaddeus \n",
      "\n",
      "Ajinca, Alexis; Asik, Omer; Cook, Quinn; Cousins, DeMarcus; Crawford, Jordan; Cunningham, Dante; Davis, Anthony; Diallo, Cheick; Frazier, Tim; Hill, Solomon; Holiday, Jrue; Moore, E'Twaun; Motiejunas, Donatas; Pondexter, Quincy; Toupane, Axel \n",
      "\n",
      "Baynes, Aron; Bullock, Reggie; Caldwell-Pope, Kentavious; Drummond, Andre; Ellenson, Henry; Gbinije, Michael; Harris, Tobias; Hilliard, Darrun; Jackson, Reggie; Johnson, Stanley; Leuer, Jon; Marjanovic, Boban; Morris, Marcus; Smith, Ish; Udrih, Beno \n",
      "\n",
      "Caboclo, Bruno; Carroll, DeMarre; DeRozan, DeMar; Ibaka, Serge; Joseph, Cory; Lowry, Kyle; Nogueira, Lucas; Patterson, Patrick; Poeltl, Jakob; Powell, Norman; Siakam, Pascal; Tucker, PJ; Valanciunas, Jonas; VanVleet, Fred; Wright, Delon \n",
      "\n",
      "Anderson, Ryan; Ariza, Trevor; Beverley, Patrick; Brown, Bobby; Capela, Clint; Dekker, Sam; Gordon, Eric; Harden, James; Harrell, Montrezl; Nene; Onuaku, Chinanu; Taylor, Isaiah; Williams, Lou; Williams, Troy; Wiltjer, Kyle \n",
      "\n",
      "Aldridge, LaMarcus; Anderson, Kyle; Anthony, Joel; Bertans, Davis; Dedmon, Dewayne; Forbes, Bryn; Gasol, Pau; Ginobili, Manu; Green, Danny; Lee, David; Leonard, Kawhi; Mills, Patty; Murray, Dejounte; Parker, Tony; Simmons, Jonathon \n",
      "\n",
      "Barbosa, Leandro; Bender, Dragan; Bledsoe, Eric; Booker, Devin; Chandler, Tyson; Chriss, Marquese; Dudley, Jared; Jones Jr., Derrick; Knight, Brandon; Len, Alex; Millsap, Elijah; Price, Ronnie; Ulis, Tyler; Warren, TJ; Williams, Alan \n",
      "\n",
      "Abrines, Alex; Adams, Steven; Christon, Semaj; Cole, Norris; Collison, Nick; Gibson, Taj; Grant, Jerami; Huestis, Josh; Kanter, Enes; McDermott, Doug; Oladipo, Victor; Roberson, Andre; Sabonis, Domantas; Singler, Kyle; Westbrook, Russell \n",
      "\n",
      "Aldrich, Cole; Bjelica, Nemanja; Casspi, Omri; Dieng, Gorgui; Dunn, Kris; Hill, Jordan; Jones, Tyus; LaVine, Zach; Muhammad, Shabazz; Payne, Adreian; Pekovic, Nikola; Rubio, Ricky; Rush, Brandon; Towns, Karl-Anthony; Wiggins, Andrew \n",
      "\n",
      "Aminu, Al-Farouq; Connaughton, Pat; Crabbe, Allen; Davis, Ed; Ezeli, Festus; Harkless, Maurice; Layman, Jake; Leonard, Meyers; Lillard, Damian; McCollum, CJ; Napier, Shabazz; Nurkic, Jusuf; Quarterman, Tim; Turner, Evan; Vonleh, Noah \n",
      "\n",
      "Barnes, Matt; Clark, Ian; Curry, Stephen; Durant, Kevin; Green, Draymond; Iguodala, Andre; Jones, Damian; Livingston, Shaun; Looney, Kevon; McAdoo, James Michael; McCaw, Patrick; McGee, JaVale; Pachulia, Zaza; Thompson, Klay; West, David \n",
      "\n",
=======
      "*** 76ers\n",
      "Anderson, Justin; Bayless, Jerryd; Covington, Robert; Embiid, Joel; Henderson, Gerald; Holmes, Richaun; Long, Shawn; Luwawu-Cabarrot, Timothe; McConnell, T.J.; Okafor, Jahlil; Poythress, Alex; Rodriguez, Sergio; Saric, Dario; Simmons, Ben; Splitter, Tiago; Stauskas, Nik \n",
      "\n",
      "*** Bucks\n",
      "Antetokounmpo, Giannis; Beasley, Michael; Brogdon, Malcolm; Dellavedova, Matthew; Hawes, Spencer; Henson, John; Maker, Thon; Middleton, Khris; Monroe, Greg; Parker, Jabari; Payton II, Gary; Snell, Tony; Teletovic, Mirza; Terry, Jason; Vaughn, Rashad \n",
      "\n",
      "*** Bulls\n",
      "Butler, Jimmy; Canaan, Isaiah; Carter-Williams, Michael; Felicio, Cristiano; Grant, Jerian; Lauvergne, Joffrey; Lopez, Robin; Mirotic, Nikola; Morrow, Anthony; Payne, Cameron; Portis, Bobby; Rondo, Rajon; Valentine, Denzel; Wade, Dwyane; Zipser, Paul \n",
      "\n",
      "*** Cavaliers\n",
      "Felder, Kay; Frye, Channing; Irving, Kyrie; James, LeBron; Jefferson, Richard; Jones, Dahntay; Jones, James; Korver, Kyle; Love, Kevin; Shumpert, Iman; Smith, JR; Tavares, Edy; Thompson, Tristan; Williams, Deron; Williams, Derrick \n",
      "\n",
      "*** Celtics\n",
      "Bradley, Avery; Brown, Jaylen; Crowder, Jae; Green, Gerald; Horford, Al; Jackson, Demetrius; Jerebko, Jonas; Johnson, Amir; Mickey, Jordan; Olynyk, Kelly; Rozier, Terry; Smart, Marcus; Thomas, Isaiah; Young, James; Zeller, Tyler \n",
      "\n",
      "*** Clippers\n",
      "Anderson, Alan; Bass, Brandon; Crawford, Jamal; Felton, Raymond; Griffin, Blake; Johnson, Brice; Johnson, Wesley; Jordan, DeAndre; Mbah a Moute, Luc; Paul, Chris; Pierce, Paul; Redick, JJ; Rivers, Austin; Speights, Marreese; Stone, Diamond \n",
      "\n",
      "*** Grizzlies\n",
      "Allen, Tony; Baldwin IV, Wade; Carter, Vince; Conley, Mike; Daniels, Troy; Davis, Deyonta; Ennis III, James; Gasol, Marc; Green, JaMychal; Harrison, Andrew; Martin, Jarell; Parsons, Chandler; Randolph, Zach; Selden, Wayne; Wright, Brandan \n",
      "\n",
      "*** Hawks\n",
      "Bazemore, Kent; Bembry, DeAndre'; Calderon, Jose; Delaney, Malcolm; Dunleavy, Mike; Hardaway Jr., Tim; Howard, Dwight; Humphries, Kris; Ilyasova, Ersan; Kelly, Ryan; Millsap, Paul; Muscala, Mike; Prince, Taurean; Schroder, Dennis; Sefolosha, Thabo \n",
      "\n",
      "*** Heat\n",
      "Babbitt, Luke; Bosh, Chris; Dragic, Goran; Ellington, Wayne; Haslem, Udonis; Johnson, James; Johnson, Tyler; McGruder, Rodney; McRoberts, Josh; Reed, Willie; Richardson, Josh; Waiters, Dion; White, Okaro; Whiteside, Hassan; Winslow, Justise \n",
      "\n",
      "*** Hornets\n",
      "Batum, Nicolas; Belinelli, Marco; Graham, Treveon; Kaminsky, Frank; Kidd-Gilchrist, Michael; Lamb, Jeremy; O'Bryant III, Johnny; Plumlee, Miles; Roberts, Brian; Sessions, Ramon; Walker, Kemba; Weber, Briante; Williams, Marvin; Wood, Christian; Zeller, Cody \n",
      "\n",
      "*** Jazz\n",
      "Bolomboy, Joel; Burks, Alec; Diaw, Boris; Exum, Dante; Favors, Derrick; Gobert, Rudy; Hayward, Gordon; Hill, George; Hood, Rodney; Ingles, Joe; Johnson, Joe; Lyles, Trey; Mack, Shelvin; Neto, Raul; Withey, Jeff \n",
      "\n",
      "*** Kings\n",
      "Afflalo, Arron; Cauley-Stein, Willie; Collison, Darren; Evans, Tyreke; Galloway, Langston; Gay, Rudy; Hield, Buddy; Koufos, Kosta; Labissiere, Skal; Lawson, Ty; McLemore, Ben; Papagiannis, Georgios; Richardson, Malachi; Temple, Garrett \n",
      "\n",
      "*** Knicks\n",
      "Anthony, Carmelo; Baker, Ron; Hernangomez, Willy; Holiday, Justin; Kuzminskas, Mindaugas; Lee, Courtney; Ndour, Maurice; Noah, Joakim; O'Quinn, Kyle; Plumlee, Marshall; Porzingis, Kristaps; Randle, Chasson; Rose, Derrick; Thomas, Lance; Vujacic, Sasha \n",
      "\n",
      "*** Lakers\n",
      "Black, Tarik; Brewer, Corey; Clarkson, Jordan; Deng, Luol; Ennis, Tyler; Ingram, Brandon; Mozgov, Timofey; Nance Jr., Larry; Nwaba, David; Randle, Julius; Robinson, Thomas; Russell, D'Angelo; World Peace, Metta; Young, Nick; Zubac, Ivica \n",
      "\n",
      "*** Magic\n",
      "Augustin, D.J.; Biyombo, Bismack; Fournier, Evan; Garino, Patricio; Georges-Hunt, Marcus; Gordon, Aaron; Green, Jeff; Hezonja, Mario; Meeks, Jodie; Payton, Elfrid; Ross, Terrence; Rudez, Damjan; Vucevic, Nikola; Watson, C.J.; Zimmerman, Stephen \n",
      "\n",
      "*** Mavericks\n",
      "Barea, J.J.; Barnes, Harrison; Brussino, Nicolas; Curry, Seth; Ferrell, Yogi; Finney-Smith, Dorian; Hammons, AJ; Harris, Devin; Harris, Manny; Liggins, DeAndre; Matthews, Wesley; Mejri, Salah; Noel, Nerlens; Nowitzki, Dirk; Powell, Dwight; Uthoff, Jarrod \n",
      "\n",
      "*** Nets\n",
      "Acy, Quincy; Booker, Trevor; Dinwiddie, Spencer; Foye, Randy; Goodwin, Archie; Hamilton, Justin; Harris, Joe; Hollis-Jefferson, Rondae; Kilpatrick, Sean; LeVert, Caris; Lin, Jeremy; Lopez, Brook; McDaniels, KJ; Nicholson, Andrew; Whitehead, Isaiah \n",
      "\n",
      "*** Nuggets\n",
      "Arthur, Darrell; Barton, Will; Beasley, Malik; Chandler, Wilson; Faried, Kenneth; Gallinari, Danilo; Harris, Gary; Hernangomez, Juancho; Hibbert, Roy; Jokic, Nikola; Miller, Mike; Mudiay, Emmanuel; Murray, Jamal; Nelson, Jameer; Plumlee, Mason \n",
      "\n",
      "*** Pacers\n",
      "Allen, Lavoy; Brooks, Aaron; Christmas, Rakeem; Ellis, Monta; George, Paul; Jefferson, Al; Miles, CJ; Niang, Georges; Robinson III, Glenn; Seraphin, Kevin; Stephenson, Lance; Teague, Jeff; Turner, Myles; Young, Joe; Young, Thaddeus \n",
      "\n",
      "*** Pelicans\n",
      "Ajinca, Alexis; Asik, Omer; Cook, Quinn; Cousins, DeMarcus; Crawford, Jordan; Cunningham, Dante; Davis, Anthony; Diallo, Cheick; Frazier, Tim; Hill, Solomon; Holiday, Jrue; Moore, E'Twaun; Motiejunas, Donatas; Pondexter, Quincy; Toupane, Axel \n",
      "\n",
      "*** Pistons\n",
      "Baynes, Aron; Bullock, Reggie; Caldwell-Pope, Kentavious; Drummond, Andre; Ellenson, Henry; Gbinije, Michael; Harris, Tobias; Hilliard, Darrun; Jackson, Reggie; Johnson, Stanley; Leuer, Jon; Marjanovic, Boban; Morris, Marcus; Smith, Ish; Udrih, Beno \n",
      "\n",
      "*** Raptors\n",
      "Caboclo, Bruno; Carroll, DeMarre; DeRozan, DeMar; Ibaka, Serge; Joseph, Cory; Lowry, Kyle; Nogueira, Lucas; Patterson, Patrick; Poeltl, Jakob; Powell, Norman; Siakam, Pascal; Tucker, PJ; Valanciunas, Jonas; VanVleet, Fred; Wright, Delon \n",
      "\n",
      "*** Rockets\n",
      "Anderson, Ryan; Ariza, Trevor; Beverley, Patrick; Brown, Bobby; Capela, Clint; Dekker, Sam; Gordon, Eric; Harden, James; Harrell, Montrezl; Nene; Onuaku, Chinanu; Taylor, Isaiah; Williams, Lou; Williams, Troy; Wiltjer, Kyle \n",
      "\n",
      "*** Spurs\n",
      "Aldridge, LaMarcus; Anderson, Kyle; Anthony, Joel; Bertans, Davis; Dedmon, Dewayne; Forbes, Bryn; Gasol, Pau; Ginobili, Manu; Green, Danny; Lee, David; Leonard, Kawhi; Mills, Patty; Murray, Dejounte; Parker, Tony; Simmons, Jonathon \n",
      "\n",
      "*** Suns\n",
      "Barbosa, Leandro; Bender, Dragan; Bledsoe, Eric; Booker, Devin; Chandler, Tyson; Chriss, Marquese; Dudley, Jared; Jones Jr., Derrick; Knight, Brandon; Len, Alex; Millsap, Elijah; Price, Ronnie; Ulis, Tyler; Warren, TJ; Williams, Alan \n",
      "\n",
      "*** Thunder\n",
      "Abrines, Alex; Adams, Steven; Christon, Semaj; Cole, Norris; Collison, Nick; Gibson, Taj; Grant, Jerami; Huestis, Josh; Kanter, Enes; McDermott, Doug; Oladipo, Victor; Roberson, Andre; Sabonis, Domantas; Singler, Kyle; Westbrook, Russell \n",
      "\n",
      "*** Timberwolves\n",
      "Aldrich, Cole; Bjelica, Nemanja; Casspi, Omri; Dieng, Gorgui; Dunn, Kris; Hill, Jordan; Jones, Tyus; LaVine, Zach; Muhammad, Shabazz; Payne, Adreian; Pekovic, Nikola; Rubio, Ricky; Rush, Brandon; Towns, Karl-Anthony; Wiggins, Andrew \n",
      "\n",
      "*** Trail Blazers\n",
      "Aminu, Al-Farouq; Connaughton, Pat; Crabbe, Allen; Davis, Ed; Ezeli, Festus; Harkless, Maurice; Layman, Jake; Leonard, Meyers; Lillard, Damian; McCollum, CJ; Napier, Shabazz; Nurkic, Jusuf; Quarterman, Tim; Turner, Evan; Vonleh, Noah \n",
      "\n",
      "*** Warriors\n",
      "Barnes, Matt; Clark, Ian; Curry, Stephen; Durant, Kevin; Green, Draymond; Iguodala, Andre; Jones, Damian; Livingston, Shaun; Looney, Kevon; McAdoo, James Michael; McCaw, Patrick; McGee, JaVale; Pachulia, Zaza; Thompson, Klay; West, David \n",
      "\n",
      "*** Wizards\n",
>>>>>>> upstream/master
      "Beal, Bradley; Bogdanovic, Bojan; Burke, Trey; Gortat, Marcin; Jennings, Brandon; Mac, Sheldon; Mahinmi, Ian; McCullough, Chris; Morris, Markieff; Ochefu, Daniel; Oubre Jr., Kelly; Porter Jr., Otto; Satoransky, Tomas; Smith, Jason; Wall, John \n",
      "\n"
     ]
    }
   ],
=======
   "execution_count": null,
   "metadata": {},
   "outputs": [],
>>>>>>> upstream/master
   "source": [
    "for t, p in players.groupby('TEAM_NAME'):\n",
    "    #print(\"***\", t)\n",
    "    print('; '.join(p.DISPLAY_LAST_COMMA_FIRST.values), '\\n')"
   ]
  },
  {
   "cell_type": "markdown",
   "metadata": {},
   "source": [
    "### Merging data frames\n",
    "\n",
    "First we can create a table of unique rows with full team names"
   ]
  },
  {
   "cell_type": "code",
<<<<<<< HEAD
<<<<<<< HEAD
   "execution_count": 57,
=======
   "execution_count": 28,
>>>>>>> upstream/master
   "metadata": {},
   "outputs": [
    {
     "data": {
      "text/html": [
       "<div>\n",
       "<table border=\"1\" class=\"dataframe\">\n",
       "  <thead>\n",
       "    <tr style=\"text-align: right;\">\n",
       "      <th></th>\n",
       "      <th>TEAM_ABBREVIATION</th>\n",
       "      <th>TEAM_CODE</th>\n",
       "    </tr>\n",
       "  </thead>\n",
       "  <tbody>\n",
       "    <tr>\n",
<<<<<<< HEAD
       "      <th>0</th>\n",
       "      <td></td>\n",
       "      <td></td>\n",
       "    </tr>\n",
       "    <tr>\n",
=======
>>>>>>> upstream/master
       "      <th>9</th>\n",
       "      <td>OKC</td>\n",
       "      <td>thunder</td>\n",
       "    </tr>\n",
       "    <tr>\n",
       "      <th>14</th>\n",
       "      <td>BKN</td>\n",
       "      <td>nets</td>\n",
       "    </tr>\n",
       "    <tr>\n",
       "      <th>25</th>\n",
       "      <td>SAC</td>\n",
       "      <td>kings</td>\n",
       "    </tr>\n",
       "    <tr>\n",
       "      <th>30</th>\n",
       "      <td>NOP</td>\n",
       "      <td>pelicans</td>\n",
       "    </tr>\n",
<<<<<<< HEAD
=======
       "    <tr>\n",
       "      <th>37</th>\n",
       "      <td>MIN</td>\n",
       "      <td>timberwolves</td>\n",
       "    </tr>\n",
>>>>>>> upstream/master
       "  </tbody>\n",
       "</table>\n",
       "</div>"
      ],
      "text/plain": [
<<<<<<< HEAD
       "   TEAM_ABBREVIATION TEAM_CODE\n",
       "0                             \n",
       "9                OKC   thunder\n",
       "14               BKN      nets\n",
       "25               SAC     kings\n",
       "30               NOP  pelicans"
      ]
     },
     "execution_count": 57,
=======
       "   TEAM_ABBREVIATION     TEAM_CODE\n",
       "9                OKC       thunder\n",
       "14               BKN          nets\n",
       "25               SAC         kings\n",
       "30               NOP      pelicans\n",
       "37               MIN  timberwolves"
      ]
     },
     "execution_count": 28,
>>>>>>> upstream/master
     "metadata": {},
     "output_type": "execute_result"
    }
   ],
=======
   "execution_count": null,
   "metadata": {},
   "outputs": [],
>>>>>>> upstream/master
   "source": [
    "team_names = players[['TEAM_ABBREVIATION', 'TEAM_CODE']].drop_duplicates()#.set_index('TEAM_ABBREVIATION')\n",
    "team_names.head()"
   ]
  },
  {
   "cell_type": "markdown",
   "metadata": {},
   "source": [
    "We have team codes (names) as a new column."
   ]
  },
  {
   "cell_type": "code",
<<<<<<< HEAD
<<<<<<< HEAD
   "execution_count": 58,
   "metadata": {},
   "outputs": [
    {
     "ename": "NameError",
     "evalue": "name 'teams_clean' is not defined",
     "output_type": "error",
     "traceback": [
      "\u001b[0;31m---------------------------------------------------------------------------\u001b[0m",
      "\u001b[0;31mNameError\u001b[0m                                 Traceback (most recent call last)",
      "\u001b[0;32m<ipython-input-58-36a2495108cd>\u001b[0m in \u001b[0;36m<module>\u001b[0;34m()\u001b[0m\n\u001b[0;32m----> 1\u001b[0;31m \u001b[0mteams_clean\u001b[0m\u001b[0;34m.\u001b[0m\u001b[0mhead\u001b[0m\u001b[0;34m(\u001b[0m\u001b[0;34m)\u001b[0m\u001b[0;34m\u001b[0m\u001b[0m\n\u001b[0m",
      "\u001b[0;31mNameError\u001b[0m: name 'teams_clean' is not defined"
     ]
=======
   "execution_count": 29,
   "metadata": {},
   "outputs": [
    {
     "data": {
      "text/html": [
       "<div>\n",
       "<table border=\"1\" class=\"dataframe\">\n",
       "  <thead>\n",
       "    <tr style=\"text-align: right;\">\n",
       "      <th></th>\n",
       "      <th>LEAGUE_ID</th>\n",
       "      <th>TEAM_ID</th>\n",
       "      <th>MIN_YEAR</th>\n",
       "      <th>MAX_YEAR</th>\n",
       "      <th>ABBREVIATION</th>\n",
       "      <th>TEAM_AGE</th>\n",
       "    </tr>\n",
       "  </thead>\n",
       "  <tbody>\n",
       "    <tr>\n",
       "      <th>0</th>\n",
       "      <td>00</td>\n",
       "      <td>1610612737</td>\n",
       "      <td>1949</td>\n",
       "      <td>2017</td>\n",
       "      <td>ATL</td>\n",
       "      <td>68</td>\n",
       "    </tr>\n",
       "    <tr>\n",
       "      <th>1</th>\n",
       "      <td>00</td>\n",
       "      <td>1610612738</td>\n",
       "      <td>1946</td>\n",
       "      <td>2017</td>\n",
       "      <td>BOS</td>\n",
       "      <td>71</td>\n",
       "    </tr>\n",
       "    <tr>\n",
       "      <th>2</th>\n",
       "      <td>00</td>\n",
       "      <td>1610612739</td>\n",
       "      <td>1970</td>\n",
       "      <td>2017</td>\n",
       "      <td>CLE</td>\n",
       "      <td>47</td>\n",
       "    </tr>\n",
       "    <tr>\n",
       "      <th>3</th>\n",
       "      <td>00</td>\n",
       "      <td>1610612740</td>\n",
       "      <td>2002</td>\n",
       "      <td>2017</td>\n",
       "      <td>NOP</td>\n",
       "      <td>15</td>\n",
       "    </tr>\n",
       "    <tr>\n",
       "      <th>4</th>\n",
       "      <td>00</td>\n",
       "      <td>1610612741</td>\n",
       "      <td>1966</td>\n",
       "      <td>2017</td>\n",
       "      <td>CHI</td>\n",
       "      <td>51</td>\n",
       "    </tr>\n",
       "  </tbody>\n",
       "</table>\n",
       "</div>"
      ],
      "text/plain": [
       "  LEAGUE_ID     TEAM_ID  MIN_YEAR  MAX_YEAR ABBREVIATION  TEAM_AGE\n",
       "0        00  1610612737      1949      2017          ATL        68\n",
       "1        00  1610612738      1946      2017          BOS        71\n",
       "2        00  1610612739      1970      2017          CLE        47\n",
       "3        00  1610612740      2002      2017          NOP        15\n",
       "4        00  1610612741      1966      2017          CHI        51"
      ]
     },
     "execution_count": 29,
     "metadata": {},
     "output_type": "execute_result"
>>>>>>> upstream/master
    }
   ],
=======
   "execution_count": null,
   "metadata": {},
   "outputs": [],
>>>>>>> upstream/master
   "source": [
    "teams_clean.head()"
   ]
  },
  {
   "cell_type": "code",
   "execution_count": null,
   "metadata": {},
   "outputs": [],
   "source": [
    "teams = pd.merge(teams_clean, team_names, left_on='ABBREVIATION', right_on='TEAM_ABBREVIATION')\n",
    "teams.tail()"
   ]
  },
  {
   "cell_type": "markdown",
   "metadata": {},
   "source": [
    "We can apply `str` method:"
   ]
  },
  {
   "cell_type": "code",
   "execution_count": null,
   "metadata": {},
   "outputs": [],
   "source": [
    "teams.TEAM_CODE = teams.TEAM_CODE.str.capitalize() # returns values so needs to be reassigned\n",
    "teams.sort_values('ABBREVIATION', inplace=True)    # modifies object\n",
    "teams.tail()"
   ]
  },
  {
   "cell_type": "code",
   "execution_count": null,
   "metadata": {},
   "outputs": [],
   "source": [
    "players.head()"
   ]
  },
  {
   "cell_type": "markdown",
   "metadata": {},
   "source": [
    "## Interaction with Widgets\n",
    "\n",
    "One of the advantages of Jupyter notebooks is that it is browser-based. Browsers are highly interactive, and we can also interact with the data by using interactive widgets IPython provides.\n",
    "\n",
    "We will digress a little bit, and talk about widgets. Widgets take user input by waiting for some action. We can create a simple slider to select some number:"
   ]
  },
  {
   "cell_type": "code",
   "execution_count": null,
   "metadata": {},
   "outputs": [],
   "source": [
    "from ipywidgets import interact, FloatSlider, Dropdown, Button\n",
    "\n",
    "def selected_val(x):\n",
    "    print('Selected value is', x)\n",
    "\n",
    "xslider = FloatSlider(min=0.0, max=10.0, step=0.05)\n",
    "interact(selected_val, x=xslider);"
   ]
  },
  {
   "cell_type": "code",
   "execution_count": null,
   "metadata": {},
   "outputs": [],
   "source": [
    "def f(x, y):\n",
    "    print(x, y)\n",
    "    \n",
    "drop1 = {'Galileo': 10, 'Brahe': 11, 'Hubble': 12}\n",
    "drop2 = {'Apple': 345, 'Orange': 234, 'Banana': 123}\n",
    "\n",
    "interact(f, x=drop1, y=drop2);"
   ]
  },
  {
   "cell_type": "code",
   "execution_count": null,
   "metadata": {},
   "outputs": [],
   "source": [
    "menu = {\n",
    "    'juice':['apple', 'peach', 'grape'],\n",
    "    'tea':['ginger', 'green', 'earl grey'],\n",
    "}\n",
    "\n",
    "selected = 'tea'\n",
    "\n",
    "flavor = Dropdown(options=menu[selected], value=menu[selected][0])\n",
    "drink = Dropdown(options=menu.keys(), value=selected)\n",
    "order = Button(description='Order!', icon='check')\n",
    "\n",
    "def update_drink(change):\n",
    "    flavor.options = menu[change['new']]\n",
    "    flavor.selected = menu[change['new']][0]\n",
    "    \n",
    "def make_order(change):\n",
    "    print(flavor.value, drink.value)\n",
    "    \n",
    "drink.observe(update_drink, names='value')\n",
    "order.on_click(make_order)\n",
    " \n",
    "display(flavor, drink, order)"
   ]
  },
  {
   "cell_type": "markdown",
   "metadata": {},
   "source": [
    "__Exercise__: Can you add a widget for selecting the size? Size is independent of flavors; however, it should be included when the order is made. Allow for sizes small, regular, and large."
   ]
  },
  {
   "cell_type": "markdown",
   "metadata": {},
   "source": [
    "Note that `drop1` and `drop2` are used to fill in the dropdown menus with dictionary keys, but returns the value associated with a selected key. We will need to use this approach for basketball data.\n",
    "\n",
    "The format we need is as follows:\n",
    "- Teams dictionary:   \n",
    "    ```\n",
    "    teams_menu = {\n",
    "        'team1': [teamid1],\n",
    "        'team2': [teamid2],\n",
    "        ...,\n",
    "        }\n",
    "    ```\n",
    "- Players dictionary of dictionaries:   \n",
    "    ```\n",
    "    plyrs_menu = {\n",
    "        [teamid1]:{\n",
    "            'player1': [playerid1],\n",
    "            'player2': [playerid2],\n",
    "            ...,\n",
    "            },\n",
    "        [teamid2]:{\n",
    "            'player12': [playerid12],\n",
    "            'player13': [playerid13],\n",
    "            ...,\n",
    "            }\n",
    "        }\n",
    "    ```\n",
    "\n",
    "Then we can create a function like `make_order()` above to return two ids. These can be used to modify the `param` argument before calling `get_nba_data()` to retrieve data."
   ]
  },
  {
   "cell_type": "code",
   "execution_count": null,
   "metadata": {},
   "outputs": [],
   "source": [
    "team_dd_text = teams.TEAM_ABBREVIATION+', '+teams.TEAM_CODE\n",
    "team_dd = dict(zip(team_dd_text, teams.TEAM_ID))\n",
    "team_dd"
   ]
  },
  {
   "cell_type": "code",
   "execution_count": null,
   "metadata": {},
   "outputs": [],
   "source": [
    "plyr_by_team_dd = dict()\n",
    "\n",
    "for t, p in players.groupby('TEAM_ID'):\n",
    "    \n",
    "    plyr_by_team_dd[t] = dict(zip(p.DISPLAY_LAST_COMMA_FIRST, p.PERSON_ID))\n",
    "\n",
    "plyr_by_team_dd"
   ]
  },
  {
   "cell_type": "code",
   "execution_count": null,
   "metadata": {},
   "outputs": [],
   "source": [
    "plyr_dd_text = players.DISPLAY_LAST_COMMA_FIRST\n",
    "plyr_dd_id = players.PERSON_ID\n",
    "plyr_dd = dict(zip(plyr_dd_text, plyr_dd_id))\n",
    "plyr_dd"
   ]
  },
  {
   "cell_type": "code",
   "execution_count": null,
   "metadata": {},
   "outputs": [],
   "source": [
    "# selected = 'ATL, Hawks'\n",
    "selected = 'LAC, Clippers'\n",
    "\n",
    "team_menu = Dropdown(options=team_dd, label=selected)\n",
    "plyr_menu = Dropdown(options=plyr_by_team_dd[team_dd[selected]])\n",
    "\n",
    "display(team_menu, plyr_menu)"
   ]
  },
  {
   "cell_type": "markdown",
   "metadata": {},
   "source": [
    "Adding an \"observer\" watches for change events to the drop down menus"
   ]
  },
  {
   "cell_type": "code",
   "execution_count": null,
   "metadata": {},
   "outputs": [],
   "source": [
    "def test_team(change):\n",
    "    \n",
    "    print(change['new'])\n",
    "    print(\"***********\")\n",
    "    print(change)\n",
    "    \n",
    "team_menu.observe(test_team, names='label')\n",
    "# team_menu.observe(test_team, names=['label', 'value']) ## what does this do?"
   ]
  },
  {
   "cell_type": "markdown",
   "metadata": {},
   "source": [
    "__Exercise__: What does the `label` refer to? What does adding `value` do?"
   ]
  },
  {
   "cell_type": "code",
   "execution_count": null,
   "metadata": {},
   "outputs": [],
   "source": [
    "# selected = 'ATL, Hawks'\n",
    "selected = 'LAC, Clippers'\n",
    "\n",
    "team_menu = Dropdown(options=team_dd, label=selected)\n",
    "plyr_menu = Dropdown(options=plyr_by_team_dd[team_dd[selected]])\n",
    "\n",
    "display(team_menu, plyr_menu)\n",
    "\n",
    "def update_team(change):\n",
    "    plyr_menu.options = plyr_by_team_dd[change['new']]\n",
    "\n",
    "team_menu.observe(update_team, names='value')"
   ]
  },
  {
   "cell_type": "code",
   "execution_count": null,
   "metadata": {},
   "outputs": [],
   "source": [
    "from ipywidgets import link, dlink\n",
    "\n",
    "# selected = 'ATL, Hawks'\n",
    "selected = 'LAC, Clippers'\n",
    "\n",
    "team_menu = Dropdown(options=team_dd, label=selected)\n",
    "plyr_menu = Dropdown(options=plyr_by_team_dd[team_dd[selected]])\n",
    "fetch_button = Button(description='Get Data!', icon='check')\n",
    "\n",
    "display(team_menu, plyr_menu, fetch_button)\n",
    "\n",
    "## update players list\n",
    "def update_team(change):\n",
    "    plyr_menu.options = plyr_by_team_dd[change['new']]\n",
    "\n",
    "team_menu.observe(update_team, names='value')\n",
    "\n",
    "## get data action\n",
    "def get_data(change):\n",
    "    print(team_menu.value, plyr_menu.value)\n",
    "    \n",
    "fetch_button.on_click(get_data)"
   ]
  },
  {
   "cell_type": "markdown",
   "metadata": {},
   "source": [
    "__Exercise__: How would you modify `get_data()` function to construct `param` and fetch data using `get_nba_data()`?"
   ]
  }
 ],
 "metadata": {
  "language_info": {
   "name": "python",
   "pygments_lexer": "ipython3"
  }
 },
 "nbformat": 4,
 "nbformat_minor": 2
}
